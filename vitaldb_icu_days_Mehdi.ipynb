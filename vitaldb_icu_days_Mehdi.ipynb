{
 "cells": [
  {
   "cell_type": "code",
   "execution_count": 1,
   "id": "e2e5e742",
   "metadata": {},
   "outputs": [],
   "source": [
    "import pandas as pd\n",
    "import numpy as np\n",
    "import matplotlib.pyplot as plt\n",
    "%matplotlib inline\n",
    "import seaborn as sns\n",
    "import csv\n",
    "import sklearn\n",
    "from sklearn.preprocessing import LabelEncoder\n",
    "from sklearn.pipeline import Pipeline\n",
    "from sklearn.model_selection import train_test_split\n",
    "from sklearn.naive_bayes import GaussianNB\n",
    "from sklearn.ensemble import RandomForestClassifier\n",
    "from xgboost import XGBClassifier\n",
    "from sklearn.linear_model import LogisticRegression\n",
    "from sklearn import metrics\n"
   ]
  },
  {
   "cell_type": "code",
   "execution_count": 2,
   "id": "3dcca517",
   "metadata": {},
   "outputs": [],
   "source": [
    "df = pd.read_csv('~/Desktop/vitaldb/clinical_data.csv')\n",
    "df_lab = pd.read_csv('~/Desktop/vitaldb/lab_data.csv')"
   ]
  },
  {
   "cell_type": "code",
   "execution_count": 3,
   "id": "ba78f4d1",
   "metadata": {},
   "outputs": [
    {
     "name": "stdout",
     "output_type": "stream",
     "text": [
      "['caseid', 'subjectid', 'casestart', 'caseend', 'anestart', 'aneend', 'opstart', 'opend', 'adm', 'dis', 'icu_days', 'death_inhosp', 'age', 'sex', 'height', 'weight', 'bmi', 'asa', 'emop', 'department', 'optype', 'dx', 'opname', 'approach', 'position', 'ane_type', 'preop_htn', 'preop_dm', 'preop_ecg', 'preop_pft', 'preop_hb', 'preop_plt', 'preop_pt', 'preop_aptt', 'preop_na', 'preop_k', 'preop_gluc', 'preop_alb', 'preop_ast', 'preop_alt', 'preop_bun', 'preop_cr', 'preop_ph', 'preop_hco3', 'preop_be', 'preop_pao2', 'preop_paco2', 'preop_sao2', 'cormack', 'airway', 'tubesize', 'dltubesize', 'lmasize', 'iv1', 'iv2', 'aline1', 'aline2', 'cline1', 'cline2', 'intraop_ebl', 'intraop_uo', 'intraop_rbc', 'intraop_ffp', 'intraop_crystalloid', 'intraop_colloid', 'intraop_ppf', 'intraop_mdz', 'intraop_ftn', 'intraop_rocu', 'intraop_vecu', 'intraop_eph', 'intraop_phe', 'intraop_epi', 'intraop_ca']\n"
     ]
    }
   ],
   "source": [
    "print([i for i in df.columns])"
   ]
  },
  {
   "cell_type": "code",
   "execution_count": 4,
   "id": "414dd62c",
   "metadata": {},
   "outputs": [
    {
     "name": "stdout",
     "output_type": "stream",
     "text": [
      "{'ptinr', 'ast', 'tbil', 'lac', 'plt', 'na', 'tprot', 'p', 'hco3', 'alb', 'po2', 'aptt', 'crp', 'hct', 'cr', 'wbc', 'ammo', 'fib', 'pt%', 'gluc', 'bun', 'ph', 'ccr', 'pco2', 'k', 'ptsec', 'sao2', 'ica', 'esr', 'be', 'gfr', 'hb', 'cl', 'alt'}\n"
     ]
    }
   ],
   "source": [
    "print(set(df_lab['name']))"
   ]
  },
  {
   "cell_type": "code",
   "execution_count": 5,
   "id": "51ce5358",
   "metadata": {},
   "outputs": [
    {
     "data": {
      "text/plain": [
       "0      5184\n",
       "1       815\n",
       "2        98\n",
       "3        80\n",
       "4        60\n",
       "5        35\n",
       "6        31\n",
       "7        14\n",
       "8         8\n",
       "16        7\n",
       "11        6\n",
       "32        5\n",
       "9         5\n",
       "38        5\n",
       "14        5\n",
       "12        4\n",
       "17        4\n",
       "26        4\n",
       "25        3\n",
       "21        2\n",
       "24        2\n",
       "15        2\n",
       "47        1\n",
       "19        1\n",
       "22        1\n",
       "179       1\n",
       "13        1\n",
       "23        1\n",
       "33        1\n",
       "42        1\n",
       "81        1\n",
       "Name: icu_days, dtype: int64"
      ]
     },
     "execution_count": 5,
     "metadata": {},
     "output_type": "execute_result"
    }
   ],
   "source": [
    "df['icu_days'].value_counts()"
   ]
  },
  {
   "cell_type": "markdown",
   "id": "28ba4694",
   "metadata": {},
   "source": [
    "## Naive Bayes"
   ]
  },
  {
   "cell_type": "code",
   "execution_count": 6,
   "id": "247c40b3",
   "metadata": {},
   "outputs": [],
   "source": [
    "df2 = df.copy()"
   ]
  },
  {
   "cell_type": "code",
   "execution_count": 7,
   "id": "4842b453",
   "metadata": {},
   "outputs": [
    {
     "data": {
      "text/plain": [
       "(6388, 74)"
      ]
     },
     "execution_count": 7,
     "metadata": {},
     "output_type": "execute_result"
    }
   ],
   "source": [
    "df.shape"
   ]
  },
  {
   "cell_type": "code",
   "execution_count": 8,
   "id": "432a5da8",
   "metadata": {},
   "outputs": [],
   "source": [
    "#create binary values for icu stay: 0 not stay, 1 stay\n",
    "df2['icu_binary'] = df2['icu_days'].apply(lambda x: 0 if x==0 else 1)\n",
    "#create length of recording, anesthesia and operation\n",
    "df2['case_len'] = df2['caseend'] - df2['casestart']\n",
    "df2['ane_len'] = df2['aneend'] - df2['anestart']\n",
    "df2['op_len'] = df2['opend'] - df2['opstart']\n",
    "df2['adm_len'] = df2['adm'] - df2['dis']"
   ]
  },
  {
   "cell_type": "code",
   "execution_count": 9,
   "id": "70ecc1c8",
   "metadata": {},
   "outputs": [
    {
     "data": {
      "text/html": [
       "<div>\n",
       "<style scoped>\n",
       "    .dataframe tbody tr th:only-of-type {\n",
       "        vertical-align: middle;\n",
       "    }\n",
       "\n",
       "    .dataframe tbody tr th {\n",
       "        vertical-align: top;\n",
       "    }\n",
       "\n",
       "    .dataframe thead th {\n",
       "        text-align: right;\n",
       "    }\n",
       "</style>\n",
       "<table border=\"1\" class=\"dataframe\">\n",
       "  <thead>\n",
       "    <tr style=\"text-align: right;\">\n",
       "      <th></th>\n",
       "      <th>age</th>\n",
       "      <th>sex</th>\n",
       "    </tr>\n",
       "  </thead>\n",
       "  <tbody>\n",
       "    <tr>\n",
       "      <th>0</th>\n",
       "      <td>75</td>\n",
       "      <td>1</td>\n",
       "    </tr>\n",
       "    <tr>\n",
       "      <th>1</th>\n",
       "      <td>50</td>\n",
       "      <td>1</td>\n",
       "    </tr>\n",
       "    <tr>\n",
       "      <th>2</th>\n",
       "      <td>59</td>\n",
       "      <td>1</td>\n",
       "    </tr>\n",
       "    <tr>\n",
       "      <th>3</th>\n",
       "      <td>72</td>\n",
       "      <td>1</td>\n",
       "    </tr>\n",
       "    <tr>\n",
       "      <th>4</th>\n",
       "      <td>63</td>\n",
       "      <td>1</td>\n",
       "    </tr>\n",
       "    <tr>\n",
       "      <th>...</th>\n",
       "      <td>...</td>\n",
       "      <td>...</td>\n",
       "    </tr>\n",
       "    <tr>\n",
       "      <th>6383</th>\n",
       "      <td>61</td>\n",
       "      <td>1</td>\n",
       "    </tr>\n",
       "    <tr>\n",
       "      <th>6384</th>\n",
       "      <td>66</td>\n",
       "      <td>1</td>\n",
       "    </tr>\n",
       "    <tr>\n",
       "      <th>6385</th>\n",
       "      <td>58</td>\n",
       "      <td>0</td>\n",
       "    </tr>\n",
       "    <tr>\n",
       "      <th>6386</th>\n",
       "      <td>19</td>\n",
       "      <td>0</td>\n",
       "    </tr>\n",
       "    <tr>\n",
       "      <th>6387</th>\n",
       "      <td>42</td>\n",
       "      <td>0</td>\n",
       "    </tr>\n",
       "  </tbody>\n",
       "</table>\n",
       "<p>6388 rows × 2 columns</p>\n",
       "</div>"
      ],
      "text/plain": [
       "      age  sex\n",
       "0      75    1\n",
       "1      50    1\n",
       "2      59    1\n",
       "3      72    1\n",
       "4      63    1\n",
       "...   ...  ...\n",
       "6383   61    1\n",
       "6384   66    1\n",
       "6385   58    0\n",
       "6386   19    0\n",
       "6387   42    0\n",
       "\n",
       "[6388 rows x 2 columns]"
      ]
     },
     "execution_count": 9,
     "metadata": {},
     "output_type": "execute_result"
    }
   ],
   "source": [
    "#Label Encoding for age and sex to numeric conversion\n",
    "le = LabelEncoder()\n",
    "\n",
    "for col in ['age', 'sex']:\n",
    "    df2[col] = le.fit_transform(df2[col].astype(str))\n",
    "\n",
    "df2[['age', 'sex']]"
   ]
  },
  {
   "cell_type": "code",
   "execution_count": 10,
   "id": "15c7b108",
   "metadata": {},
   "outputs": [
    {
     "name": "stdout",
     "output_type": "stream",
     "text": [
      "Index(['department', 'optype', 'dx', 'opname', 'approach', 'position',\n",
      "       'ane_type', 'preop_ecg', 'preop_pft', 'cormack', 'airway', 'dltubesize',\n",
      "       'iv1', 'iv2', 'aline1', 'aline2', 'cline1', 'cline2'],\n",
      "      dtype='object')\n"
     ]
    }
   ],
   "source": [
    "#list of object with categorical values\n",
    "objList = df2.select_dtypes(include = \"object\").columns\n",
    "print (objList)"
   ]
  },
  {
   "cell_type": "code",
   "execution_count": 11,
   "id": "5bf34934",
   "metadata": {},
   "outputs": [],
   "source": [
    "#hot encoding for other categorical variables\n",
    "df2 = pd.get_dummies(df2, columns = objList)"
   ]
  },
  {
   "cell_type": "code",
   "execution_count": 12,
   "id": "f9da94d2",
   "metadata": {},
   "outputs": [],
   "source": [
    "#drop columns not used in our alalysis\n",
    "df2= df2.drop(['case_len', 'height', 'weight', 'subjectid', 'casestart', 'caseend', 'anestart', 'aneend', 'opstart', 'opend', 'adm', 'dis'], axis=1)"
   ]
  },
  {
   "cell_type": "raw",
   "id": "9b3ff6ca",
   "metadata": {},
   "source": [
    "df2.isna().sum().to_markdown()"
   ]
  },
  {
   "cell_type": "code",
   "execution_count": 13,
   "id": "51b66054",
   "metadata": {},
   "outputs": [],
   "source": [
    "df2.fillna(-999, inplace=True)"
   ]
  },
  {
   "cell_type": "code",
   "execution_count": 14,
   "id": "10c04919",
   "metadata": {},
   "outputs": [],
   "source": [
    "#remove those features that have high number of missing data + case id and icu_days. \n",
    "l1 = [i for i in df2.columns]\n",
    "features = [i for i in l1 if i not in ('caseid', 'icu_binary', 'icu_days', 'preop_hco3', 'preop_be', 'preop_pao2', 'preop_paco2', 'preop_sao2', 'tubesize', 'lmasize', 'intraop_ebl', 'intraop_uo', 'intraop_rbc')]\n",
    "x = df2[features]\n",
    "y = df2['icu_days']"
   ]
  },
  {
   "cell_type": "code",
   "execution_count": 15,
   "id": "00f36c2f",
   "metadata": {},
   "outputs": [],
   "source": [
    "x_train, x_test, y_train, y_test = train_test_split(x, y, test_size=0.2, random_state=12)"
   ]
  },
  {
   "cell_type": "code",
   "execution_count": 16,
   "id": "e27bdd62",
   "metadata": {},
   "outputs": [],
   "source": [
    "#Create a Gaussian Classifier\n",
    "gnb = GaussianNB()\n",
    "#Train the model using the training sets\n",
    "gnb.fit(x_train, y_train)\n",
    "\n",
    "#Predict the response for test dataset\n",
    "y_pred = gnb.predict(x_test)"
   ]
  },
  {
   "cell_type": "code",
   "execution_count": 17,
   "id": "848ae49b",
   "metadata": {},
   "outputs": [
    {
     "name": "stdout",
     "output_type": "stream",
     "text": [
      "Accuracy: 0.12128325508607199\n"
     ]
    }
   ],
   "source": [
    "# Model Accuracy, how often is the classifier correct?\n",
    "print(\"Accuracy:\",metrics.accuracy_score(y_test, y_pred))"
   ]
  },
  {
   "cell_type": "code",
   "execution_count": 18,
   "id": "251998d1",
   "metadata": {},
   "outputs": [
    {
     "data": {
      "text/plain": [
       "0    5184\n",
       "1    1204\n",
       "Name: icu_binary, dtype: int64"
      ]
     },
     "execution_count": 18,
     "metadata": {},
     "output_type": "execute_result"
    }
   ],
   "source": [
    "df2['icu_binary'].value_counts()"
   ]
  },
  {
   "cell_type": "code",
   "execution_count": 19,
   "id": "8fb4fb14",
   "metadata": {},
   "outputs": [
    {
     "name": "stdout",
     "output_type": "stream",
     "text": [
      "0    5184\n",
      "1    1204\n",
      "Name: icu_binary, dtype: int64\n",
      "['no stay', 'icu_stay']\n"
     ]
    },
    {
     "data": {
      "image/png": "[encoded data removed]",
      "text/plain": [
       "<Figure size 216x360 with 1 Axes>"
      ]
     },
     "metadata": {
      "needs_background": "light"
     },
     "output_type": "display_data"
    }
   ],
   "source": [
    "l1= df2['icu_binary'].value_counts()\n",
    "l2 = ['no stay', 'icu_stay']\n",
    "\n",
    "print(l1)\n",
    "print(l2)\n",
    "fig = plt.figure(figsize = (3, 5))\n",
    " \n",
    "# creating the bar plot\n",
    "plt.bar(l2, l1, width= 0.3)\n",
    " \n",
    "plt.title(\"ICU stay status\")\n",
    "plt.ylabel(\"number of patients\")\n",
    "plt.show()"
   ]
  },
  {
   "cell_type": "code",
   "execution_count": 20,
   "id": "6253967b",
   "metadata": {},
   "outputs": [
    {
     "name": "stdout",
     "output_type": "stream",
     "text": [
      "    icu_days  patients\n",
      "0          0      5184\n",
      "1          1       815\n",
      "2          2        98\n",
      "3          3        80\n",
      "4          4        60\n",
      "5          5        35\n",
      "6          6        31\n",
      "7          7        14\n",
      "8          8         8\n",
      "9         16         7\n",
      "10        11         6\n",
      "11        32         5\n",
      "12         9         5\n",
      "13        38         5\n",
      "14        14         5\n",
      "15        12         4\n",
      "16        17         4\n",
      "17        26         4\n",
      "18        25         3\n",
      "19        21         2\n",
      "20        24         2\n",
      "21        15         2\n",
      "22        47         1\n",
      "23        19         1\n",
      "24        22         1\n",
      "25       179         1\n",
      "26        13         1\n",
      "27        23         1\n",
      "28        33         1\n",
      "29        42         1\n",
      "30        81         1\n"
     ]
    }
   ],
   "source": [
    "l = df2['icu_days'].value_counts()\n",
    "a = df2['icu_days'].value_counts().rename_axis('icu_days').reset_index(name='patients')\n",
    "print (a)"
   ]
  },
  {
   "cell_type": "code",
   "execution_count": 21,
   "id": "d60afc90",
   "metadata": {
    "scrolled": true
   },
   "outputs": [
    {
     "data": {
      "image/png": "[encoded data removed]",
      "text/plain": [
       "<Figure size 432x288 with 1 Axes>"
      ]
     },
     "metadata": {
      "needs_background": "light"
     },
     "output_type": "display_data"
    }
   ],
   "source": [
    "y = a['patients']\n",
    "x = a['icu_days']\n",
    "plt.yscale(\"log\")\n",
    "plt.xscale(\"log\")\n",
    "plt.xticks([10**0, 10**1, 10**2],[1, 10, 100])\n",
    "plt.yticks([10**0, 10**1, 10**2, 10**3],[1, 10, 100, 1000])\n",
    "plt.xlabel('ICU stay days')\n",
    "plt.ylabel('number of patients')\n",
    "plt.stem(x, y)\n",
    "plt.show()"
   ]
  },
  {
   "cell_type": "markdown",
   "id": "19988756",
   "metadata": {},
   "source": [
    "## Random Forest"
   ]
  },
  {
   "cell_type": "code",
   "execution_count": 22,
   "id": "418fd7d9",
   "metadata": {},
   "outputs": [],
   "source": [
    "#Create a Gaussian Classifier\n",
    "clf=RandomForestClassifier(n_estimators=500)\n",
    "\n",
    "#Train the model using the training sets y_pred=clf.predict(X_test)\n",
    "clf.fit(x_train,y_train)\n",
    "\n",
    "y_pred=clf.predict(x_test)"
   ]
  },
  {
   "cell_type": "code",
   "execution_count": 23,
   "id": "b24f93b8",
   "metadata": {},
   "outputs": [
    {
     "name": "stdout",
     "output_type": "stream",
     "text": [
      "Accuracy: 0.852112676056338\n"
     ]
    }
   ],
   "source": [
    "# Model Accuracy, how often is the classifier correct?\n",
    "print(\"Accuracy:\",metrics.accuracy_score(y_test, y_pred))"
   ]
  },
  {
   "cell_type": "code",
   "execution_count": 24,
   "id": "6b22d51a",
   "metadata": {},
   "outputs": [
    {
     "name": "stderr",
     "output_type": "stream",
     "text": [
      "No handles with labels found to put in legend.\n"
     ]
    },
    {
     "data": {
      "image/png": "[encoded data removed]",
      "text/plain": [
       "<Figure size 432x288 with 1 Axes>"
      ]
     },
     "metadata": {
      "needs_background": "light"
     },
     "output_type": "display_data"
    }
   ],
   "source": [
    "#finding top important features\n",
    "feature_imp = pd.Series(clf.feature_importances_,index=features).sort_values(ascending=False)\n",
    "# Creating a bar plot\n",
    "sns.barplot(x=feature_imp[0:20], y=feature_imp.index[0:20])\n",
    "# Add labels to your graph\n",
    "plt.xlabel('Feature Importance Score')\n",
    "plt.ylabel('Features')\n",
    "plt.title(\"Visualizing Important Features\")\n",
    "plt.legend()\n",
    "plt.show()"
   ]
  },
  {
   "cell_type": "code",
   "execution_count": 25,
   "id": "9405dac9",
   "metadata": {},
   "outputs": [
    {
     "name": "stdout",
     "output_type": "stream",
     "text": [
      "Accuracy: 0.8943661971830986\n"
     ]
    }
   ],
   "source": [
    "#ReGenerating the Model on Selected Features\n",
    "top_features= feature_imp.index[0:100]\n",
    "x = df2[top_features]\n",
    "y = df2['icu_binary']\n",
    "x_train2, x_test2, y_train2, y_test2 = train_test_split(x, y, test_size=0.2, random_state=12)\n",
    "#Create a Gaussian Classifier\n",
    "clf=RandomForestClassifier(n_estimators=500)\n",
    "\n",
    "#Train the model using the training sets y_pred=clf.predict(X_test)\n",
    "clf.fit(x_train2,y_train2)\n",
    "\n",
    "# prediction on test set\n",
    "y_pred2=clf.predict(x_test2)\n",
    "\n",
    "# Model Accuracy, how often is the classifier correct?\n",
    "print(\"Accuracy:\",metrics.accuracy_score(y_test2, y_pred2))"
   ]
  },
  {
   "cell_type": "markdown",
   "id": "7738c2b5",
   "metadata": {},
   "source": [
    "## XGBoost"
   ]
  },
  {
   "cell_type": "raw",
   "id": "146157a4",
   "metadata": {},
   "source": [
    "# fit model no training data\n",
    "model = XGBClassifier()\n",
    "model.fit(x_train, y_train)\n",
    "\n",
    "# make predictions for test data\n",
    "y_pred = model.predict(x_test)\n",
    "predictions = [round(value) for value in y_pred]\n",
    "\n",
    "accuracy = metrics.accuracy_score(y_test, predictions)\n",
    "print(\"Accuracy: %.2f%%\" % (accuracy * 100.0))"
   ]
  },
  {
   "cell_type": "markdown",
   "id": "b173bd9e",
   "metadata": {},
   "source": [
    "## Logistic Regression"
   ]
  },
  {
   "cell_type": "code",
   "execution_count": 26,
   "id": "4244c4dd",
   "metadata": {},
   "outputs": [
    {
     "name": "stderr",
     "output_type": "stream",
     "text": [
      "/Users/msafariqariq/opt/anaconda3/lib/python3.8/site-packages/sklearn/linear_model/_logistic.py:763: ConvergenceWarning: lbfgs failed to converge (status=1):\n",
      "STOP: TOTAL NO. of ITERATIONS REACHED LIMIT.\n",
      "\n",
      "Increase the number of iterations (max_iter) or scale the data as shown in:\n",
      "    https://scikit-learn.org/stable/modules/preprocessing.html\n",
      "Please also refer to the documentation for alternative solver options:\n",
      "    https://scikit-learn.org/stable/modules/linear_model.html#logistic-regression\n",
      "  n_iter_i = _check_optimize_result(\n"
     ]
    }
   ],
   "source": [
    "# instantiate the model (using the default parameters)\n",
    "logreg = LogisticRegression()\n",
    "\n",
    "# fit the model with data\n",
    "logreg.fit(x_train, y_train)\n",
    "\n",
    "y_pred = logreg.predict(x_test)"
   ]
  },
  {
   "cell_type": "code",
   "execution_count": 27,
   "id": "f7eb9c00",
   "metadata": {},
   "outputs": [
    {
     "name": "stdout",
     "output_type": "stream",
     "text": [
      "Accuracy: 80.52%\n"
     ]
    }
   ],
   "source": [
    "accuracy = metrics.accuracy_score(y_test, y_pred)\n",
    "print(\"Accuracy: %.2f%%\" % (accuracy * 100.0))"
   ]
  },
  {
   "cell_type": "raw",
   "id": "69a933f1",
   "metadata": {},
   "source": [
    "#model performance\n",
    "cnf_matrix = metrics.confusion_matrix(y_test, y_pred)\n",
    "cnf_matrix"
   ]
  },
  {
   "cell_type": "raw",
   "id": "7d55df7c",
   "metadata": {},
   "source": [
    "#plot confusion matrix\n",
    "\n",
    "class_names=[0,1] # name  of classes\n",
    "fig, ax = plt.subplots()\n",
    "tick_marks = np.arange(len(class_names))\n",
    "plt.xticks(tick_marks, class_names)\n",
    "plt.yticks(tick_marks, class_names)\n",
    "# create heatmap\n",
    "sns.heatmap(pd.DataFrame(cnf_matrix), annot=True, cmap=\"YlGnBu\" ,fmt='g')\n",
    "ax.xaxis.set_label_position(\"top\")\n",
    "plt.tight_layout()\n",
    "plt.title('Confusion matrix', y=1.1)\n",
    "plt.ylabel('Actual label')\n",
    "plt.xlabel('Predicted label')"
   ]
  },
  {
   "cell_type": "raw",
   "id": "2293daad",
   "metadata": {},
   "source": [
    "#ROC curve: curve is a plot of the true positive rate against the false positive rate. \n",
    "#It shows the tradeoff between sensitivity and specificity.\n",
    "#AUC score for the case is 0.81.\n",
    "#AUC score 1 represents a perfect classifier, and 0.5 represents a worthless classifier.\n",
    "y_pred_proba = logreg.predict_proba(x_test)[::,1]\n",
    "fpr, tpr, _ = metrics.roc_curve(y_test,  y_pred_proba)\n",
    "auc = metrics.roc_auc_score(y_test, y_pred_proba)\n",
    "plt.plot(fpr,tpr,label=\"data 1, auc=\"+str(auc))\n",
    "plt.legend(loc=4)\n",
    "plt.show()"
   ]
  },
  {
   "cell_type": "code",
   "execution_count": null,
   "id": "6cbab054",
   "metadata": {},
   "outputs": [],
   "source": []
  }
 ],
 "metadata": {
  "kernelspec": {
   "display_name": "Python 3",
   "language": "python",
   "name": "python3"
  },
  "language_info": {
   "codemirror_mode": {
    "name": "ipython",
    "version": 3
   },
   "file_extension": ".py",
   "mimetype": "text/x-python",
   "name": "python",
   "nbconvert_exporter": "python",
   "pygments_lexer": "ipython3",
   "version": "3.8.11"
  }
 },
 "nbformat": 4,
 "nbformat_minor": 5
}
