{
  "cells": [
    {
      "cell_type": "markdown",
      "metadata": {
        "id": "pG7xoA089Jiq"
      },
      "source": [
        "## Importing Libraries"
      ]
    },
    {
      "cell_type": "code",
      "execution_count": 213,
      "metadata": {
        "id": "47rfShXr9BiE"
      },
      "outputs": [],
      "source": [
        "from sklearn.model_selection import train_test_split, GridSearchCV\n",
        "from sklearn.preprocessing import LabelEncoder, OneHotEncoder\n",
        "from sklearn.feature_selection import mutual_info_classif\n",
        "from sklearn.feature_selection import VarianceThreshold\n",
        "from sklearn.feature_selection import SelectKBest, chi2\n",
        "from keras.wrappers.scikit_learn import KerasClassifier\n",
        "from sklearn.linear_model import LogisticRegression\n",
        "from sklearn.ensemble import RandomForestClassifier\n",
        "from sklearn.model_selection import GridSearchCV\n",
        "from sklearn.metrics import accuracy_score\n",
        "from keras.layers import Dense, Flatten\n",
        "from keras.models import Sequential\n",
        "from xgboost import XGBClassifier\n",
        "import numpy as np\n",
        "import pandas as pd\n",
        "import seaborn as sns\n",
        "import matplotlib.pyplot as plt"
      ]
    },
    {
      "cell_type": "markdown",
      "metadata": {
        "id": "iU98hau-9a0-"
      },
      "source": [
        "## Data Cleaning and Analysis"
      ]
    },
    {
      "cell_type": "code",
      "execution_count": 214,
      "metadata": {
        "colab": {
          "base_uri": "https://localhost:8080/",
          "height": 1000
        },
        "id": "qnXLnret9X8B",
        "outputId": "6c434d08-303b-4243-fd76-d1c53c0a92e2"
      },
      "outputs": [
        {
          "name": "stdout",
          "output_type": "stream",
          "text": [
            "<class 'pandas.core.frame.DataFrame'>\n",
            "RangeIndex: 6388 entries, 0 to 6387\n",
            "Data columns (total 74 columns):\n",
            " #   Column               Non-Null Count  Dtype  \n",
            "---  ------               --------------  -----  \n",
            " 0   caseid               6388 non-null   int64  \n",
            " 1   subjectid            6388 non-null   int64  \n",
            " 2   casestart            6388 non-null   int64  \n",
            " 3   caseend              6388 non-null   int64  \n",
            " 4   anestart             6388 non-null   int64  \n",
            " 5   aneend               6388 non-null   float64\n",
            " 6   opstart              6388 non-null   int64  \n",
            " 7   opend                6388 non-null   int64  \n",
            " 8   adm                  6388 non-null   int64  \n",
            " 9   dis                  6388 non-null   int64  \n",
            " 10  icu_days             6388 non-null   int64  \n",
            " 11  death_inhosp         6388 non-null   int64  \n",
            " 12  age                  6388 non-null   object \n",
            " 13  sex                  6388 non-null   object \n",
            " 14  height               6388 non-null   float64\n",
            " 15  weight               6388 non-null   float64\n",
            " 16  bmi                  6388 non-null   float64\n",
            " 17  asa                  6255 non-null   float64\n",
            " 18  emop                 6388 non-null   int64  \n",
            " 19  department           6388 non-null   object \n",
            " 20  optype               6388 non-null   object \n",
            " 21  dx                   6388 non-null   object \n",
            " 22  opname               6388 non-null   object \n",
            " 23  approach             6388 non-null   object \n",
            " 24  position             6194 non-null   object \n",
            " 25  ane_type             6388 non-null   object \n",
            " 26  preop_htn            6388 non-null   int64  \n",
            " 27  preop_dm             6388 non-null   int64  \n",
            " 28  preop_ecg            6388 non-null   object \n",
            " 29  preop_pft            6388 non-null   object \n",
            " 30  preop_hb             6047 non-null   float64\n",
            " 31  preop_plt            6047 non-null   float64\n",
            " 32  preop_pt             5998 non-null   float64\n",
            " 33  preop_aptt           5986 non-null   float64\n",
            " 34  preop_na             5765 non-null   float64\n",
            " 35  preop_k              5767 non-null   float64\n",
            " 36  preop_gluc           6010 non-null   float64\n",
            " 37  preop_alb            6016 non-null   float64\n",
            " 38  preop_ast            6022 non-null   float64\n",
            " 39  preop_alt            6024 non-null   float64\n",
            " 40  preop_bun            6023 non-null   float64\n",
            " 41  preop_cr             6016 non-null   float64\n",
            " 42  preop_ph             546 non-null    float64\n",
            " 43  preop_hco3           533 non-null    float64\n",
            " 44  preop_be             532 non-null    float64\n",
            " 45  preop_pao2           538 non-null    float64\n",
            " 46  preop_paco2          538 non-null    float64\n",
            " 47  preop_sao2           533 non-null    float64\n",
            " 48  cormack              5553 non-null   object \n",
            " 49  airway               5973 non-null   object \n",
            " 50  tubesize             4919 non-null   float64\n",
            " 51  dltubesize           930 non-null    object \n",
            " 52  lmasize              102 non-null    float64\n",
            " 53  iv1                  6313 non-null   object \n",
            " 54  iv2                  1437 non-null   object \n",
            " 55  aline1               3463 non-null   object \n",
            " 56  aline2               105 non-null    object \n",
            " 57  cline1               1541 non-null   object \n",
            " 58  cline2               60 non-null     object \n",
            " 59  intraop_ebl          3987 non-null   float64\n",
            " 60  intraop_uo           3707 non-null   float64\n",
            " 61  intraop_rbc          6388 non-null   int64  \n",
            " 62  intraop_ffp          6388 non-null   int64  \n",
            " 63  intraop_crystalloid  5980 non-null   float64\n",
            " 64  intraop_colloid      6388 non-null   int64  \n",
            " 65  intraop_ppf          6388 non-null   int64  \n",
            " 66  intraop_mdz          6388 non-null   float64\n",
            " 67  intraop_ftn          6388 non-null   int64  \n",
            " 68  intraop_rocu         6388 non-null   int64  \n",
            " 69  intraop_vecu         6388 non-null   int64  \n",
            " 70  intraop_eph          6388 non-null   int64  \n",
            " 71  intraop_phe          6388 non-null   int64  \n",
            " 72  intraop_epi          6388 non-null   int64  \n",
            " 73  intraop_ca           6388 non-null   int64  \n",
            "dtypes: float64(29), int64(25), object(20)\n",
            "memory usage: 3.6+ MB\n",
            "None\n"
          ]
        },
        {
          "data": {
            "text/html": [
              "<div>\n",
              "<style scoped>\n",
              "    .dataframe tbody tr th:only-of-type {\n",
              "        vertical-align: middle;\n",
              "    }\n",
              "\n",
              "    .dataframe tbody tr th {\n",
              "        vertical-align: top;\n",
              "    }\n",
              "\n",
              "    .dataframe thead th {\n",
              "        text-align: right;\n",
              "    }\n",
              "</style>\n",
              "<table border=\"1\" class=\"dataframe\">\n",
              "  <thead>\n",
              "    <tr style=\"text-align: right;\">\n",
              "      <th></th>\n",
              "      <th>caseid</th>\n",
              "      <th>subjectid</th>\n",
              "      <th>casestart</th>\n",
              "      <th>caseend</th>\n",
              "      <th>anestart</th>\n",
              "      <th>aneend</th>\n",
              "      <th>opstart</th>\n",
              "      <th>opend</th>\n",
              "      <th>adm</th>\n",
              "      <th>dis</th>\n",
              "      <th>...</th>\n",
              "      <th>intraop_colloid</th>\n",
              "      <th>intraop_ppf</th>\n",
              "      <th>intraop_mdz</th>\n",
              "      <th>intraop_ftn</th>\n",
              "      <th>intraop_rocu</th>\n",
              "      <th>intraop_vecu</th>\n",
              "      <th>intraop_eph</th>\n",
              "      <th>intraop_phe</th>\n",
              "      <th>intraop_epi</th>\n",
              "      <th>intraop_ca</th>\n",
              "    </tr>\n",
              "  </thead>\n",
              "  <tbody>\n",
              "    <tr>\n",
              "      <th>0</th>\n",
              "      <td>1</td>\n",
              "      <td>5955</td>\n",
              "      <td>0</td>\n",
              "      <td>11542</td>\n",
              "      <td>-552</td>\n",
              "      <td>10848.0</td>\n",
              "      <td>1668</td>\n",
              "      <td>10368</td>\n",
              "      <td>-236220</td>\n",
              "      <td>627780</td>\n",
              "      <td>...</td>\n",
              "      <td>0</td>\n",
              "      <td>120</td>\n",
              "      <td>0.0</td>\n",
              "      <td>100</td>\n",
              "      <td>70</td>\n",
              "      <td>0</td>\n",
              "      <td>10</td>\n",
              "      <td>0</td>\n",
              "      <td>0</td>\n",
              "      <td>0</td>\n",
              "    </tr>\n",
              "    <tr>\n",
              "      <th>1</th>\n",
              "      <td>2</td>\n",
              "      <td>2487</td>\n",
              "      <td>0</td>\n",
              "      <td>15741</td>\n",
              "      <td>-1039</td>\n",
              "      <td>14921.0</td>\n",
              "      <td>1721</td>\n",
              "      <td>14621</td>\n",
              "      <td>-221160</td>\n",
              "      <td>1506840</td>\n",
              "      <td>...</td>\n",
              "      <td>0</td>\n",
              "      <td>150</td>\n",
              "      <td>0.0</td>\n",
              "      <td>0</td>\n",
              "      <td>100</td>\n",
              "      <td>0</td>\n",
              "      <td>20</td>\n",
              "      <td>0</td>\n",
              "      <td>0</td>\n",
              "      <td>0</td>\n",
              "    </tr>\n",
              "    <tr>\n",
              "      <th>2</th>\n",
              "      <td>3</td>\n",
              "      <td>2861</td>\n",
              "      <td>0</td>\n",
              "      <td>4394</td>\n",
              "      <td>-590</td>\n",
              "      <td>4210.0</td>\n",
              "      <td>1090</td>\n",
              "      <td>3010</td>\n",
              "      <td>-218640</td>\n",
              "      <td>40560</td>\n",
              "      <td>...</td>\n",
              "      <td>0</td>\n",
              "      <td>0</td>\n",
              "      <td>0.0</td>\n",
              "      <td>0</td>\n",
              "      <td>50</td>\n",
              "      <td>0</td>\n",
              "      <td>0</td>\n",
              "      <td>0</td>\n",
              "      <td>0</td>\n",
              "      <td>0</td>\n",
              "    </tr>\n",
              "    <tr>\n",
              "      <th>3</th>\n",
              "      <td>4</td>\n",
              "      <td>1903</td>\n",
              "      <td>0</td>\n",
              "      <td>20990</td>\n",
              "      <td>-778</td>\n",
              "      <td>20222.0</td>\n",
              "      <td>2522</td>\n",
              "      <td>17822</td>\n",
              "      <td>-201120</td>\n",
              "      <td>576480</td>\n",
              "      <td>...</td>\n",
              "      <td>0</td>\n",
              "      <td>80</td>\n",
              "      <td>0.0</td>\n",
              "      <td>100</td>\n",
              "      <td>100</td>\n",
              "      <td>0</td>\n",
              "      <td>50</td>\n",
              "      <td>0</td>\n",
              "      <td>0</td>\n",
              "      <td>0</td>\n",
              "    </tr>\n",
              "    <tr>\n",
              "      <th>4</th>\n",
              "      <td>5</td>\n",
              "      <td>4416</td>\n",
              "      <td>0</td>\n",
              "      <td>21531</td>\n",
              "      <td>-1009</td>\n",
              "      <td>22391.0</td>\n",
              "      <td>2591</td>\n",
              "      <td>20291</td>\n",
              "      <td>-67560</td>\n",
              "      <td>3734040</td>\n",
              "      <td>...</td>\n",
              "      <td>0</td>\n",
              "      <td>0</td>\n",
              "      <td>0.0</td>\n",
              "      <td>0</td>\n",
              "      <td>160</td>\n",
              "      <td>0</td>\n",
              "      <td>10</td>\n",
              "      <td>900</td>\n",
              "      <td>0</td>\n",
              "      <td>2100</td>\n",
              "    </tr>\n",
              "  </tbody>\n",
              "</table>\n",
              "<p>5 rows × 74 columns</p>\n",
              "</div>"
            ],
            "text/plain": [
              "   caseid  subjectid  casestart  caseend  anestart   aneend  opstart  opend  \\\n",
              "0       1       5955          0    11542      -552  10848.0     1668  10368   \n",
              "1       2       2487          0    15741     -1039  14921.0     1721  14621   \n",
              "2       3       2861          0     4394      -590   4210.0     1090   3010   \n",
              "3       4       1903          0    20990      -778  20222.0     2522  17822   \n",
              "4       5       4416          0    21531     -1009  22391.0     2591  20291   \n",
              "\n",
              "      adm      dis  ...  intraop_colloid  intraop_ppf intraop_mdz intraop_ftn  \\\n",
              "0 -236220   627780  ...                0          120         0.0         100   \n",
              "1 -221160  1506840  ...                0          150         0.0           0   \n",
              "2 -218640    40560  ...                0            0         0.0           0   \n",
              "3 -201120   576480  ...                0           80         0.0         100   \n",
              "4  -67560  3734040  ...                0            0         0.0           0   \n",
              "\n",
              "   intraop_rocu  intraop_vecu  intraop_eph  intraop_phe  intraop_epi  \\\n",
              "0            70             0           10            0            0   \n",
              "1           100             0           20            0            0   \n",
              "2            50             0            0            0            0   \n",
              "3           100             0           50            0            0   \n",
              "4           160             0           10          900            0   \n",
              "\n",
              "  intraop_ca  \n",
              "0          0  \n",
              "1          0  \n",
              "2          0  \n",
              "3          0  \n",
              "4       2100  \n",
              "\n",
              "[5 rows x 74 columns]"
            ]
          },
          "execution_count": 214,
          "metadata": {},
          "output_type": "execute_result"
        }
      ],
      "source": [
        "path = \"/Users/parvthakkar/Desktop/NEU MSDS/Capstone/Project_Data/vitaldb-a-high-fidelity-multi-parameter-vital-signs-database-in-surgical-patients-1.0.0/\"\n",
        "\n",
        "data = pd.read_csv(path + \"clinical_data.csv\")\n",
        "print(data.info())\n",
        "data.head()"
      ]
    },
    {
      "cell_type": "code",
      "execution_count": 215,
      "metadata": {
        "colab": {
          "base_uri": "https://localhost:8080/"
        },
        "id": "wEsPOQ8E9rfF",
        "outputId": "3baad5e4-e421-406d-feae-aed9c1f60aab"
      },
      "outputs": [
        {
          "name": "stdout",
          "output_type": "stream",
          "text": [
            "1038\n"
          ]
        },
        {
          "data": {
            "text/plain": [
              "(6388, 60)"
            ]
          },
          "execution_count": 215,
          "metadata": {},
          "output_type": "execute_result"
        }
      ],
      "source": [
        "# Dropping columns that are not useful\n",
        "\n",
        "drop_columns = ['subjectid', 'casestart', 'caseend', 'anestart', \n",
        "                'aneend', 'opstart', 'opend', 'adm', 'dis', 'dltubesize', \n",
        "                'lmasize', 'aline2', 'cline1', 'cline2']\n",
        "\n",
        "data = data.drop(drop_columns, axis=1)\n",
        "\n",
        "print(len(data['dx'].unique()))\n",
        "data.shape"
      ]
    },
    {
      "cell_type": "markdown",
      "metadata": {
        "id": "u0kXx3K79yAb"
      },
      "source": [
        "### Cleaning Age"
      ]
    },
    {
      "cell_type": "code",
      "execution_count": 216,
      "metadata": {
        "colab": {
          "base_uri": "https://localhost:8080/"
        },
        "id": "D-O8pvBp9zTV",
        "outputId": "c96a4245-5965-4563-8891-4a871a73cb07"
      },
      "outputs": [
        {
          "data": {
            "text/plain": [
              "(6378, 60)"
            ]
          },
          "execution_count": 216,
          "metadata": {},
          "output_type": "execute_result"
        }
      ],
      "source": [
        "# Changing age to float\n",
        "\n",
        "data['age'] = data['age'].replace(['>89'], '89')\n",
        "\n",
        "data['age'] = pd.to_numeric(data['age'])\n",
        "df = data['age'].value_counts().rename_axis('Age').reset_index(name='Count').sort_values(['Age'], ascending=False)\n",
        "\n",
        "df.tail(10)\n",
        "\n",
        "data = data[data.age > 1]\n",
        "\n",
        "data.shape"
      ]
    },
    {
      "cell_type": "code",
      "execution_count": 217,
      "metadata": {
        "colab": {
          "base_uri": "https://localhost:8080/"
        },
        "id": "9bjlDsz293x-",
        "outputId": "fbe98cfe-8e02-4cf4-c4d4-ba15d4bc1c8b"
      },
      "outputs": [
        {
          "name": "stdout",
          "output_type": "stream",
          "text": [
            "[(72.2, 89.0], (55.4, 72.2], (38.6, 55.4], (21.8, 38.6], (4.916, 21.8]]\n",
            "Categories (5, interval[float64, right]): [(4.916, 21.8] < (21.8, 38.6] < (38.6, 55.4] < (55.4, 72.2] < (72.2, 89.0]]\n"
          ]
        },
        {
          "data": {
            "text/plain": [
              "3.0    2835\n",
              "2.0    1772\n",
              "4.0    1018\n",
              "1.0     636\n",
              "0.0     117\n",
              "Name: age, dtype: int64"
            ]
          },
          "execution_count": 217,
          "metadata": {},
          "output_type": "execute_result"
        }
      ],
      "source": [
        "# Chnaging Age to rasnges for encoding\n",
        "\n",
        "df = data['age'].value_counts().rename_axis('Age').reset_index(name='Count').sort_values(['Age'], ascending=False)\n",
        "df['AgeRange'] = pd.cut(df['Age'], 5)\n",
        "print(df['AgeRange'].unique())\n",
        "# df[''].groupby(['AgeRange'], as_index=False).count().sort_values('AgeRange', ascending=True)\n",
        "\n",
        "data['age'] = np.where((data['age'] >= 4) & (data['age'] < 22), 0, data['age'])\n",
        "data['age'] = np.where((data['age'] >= 22) & (data['age'] < 39), 1, data['age'])\n",
        "data['age'] = np.where((data['age'] >= 39) & (data['age'] < 56), 2, data['age'])\n",
        "data['age'] = np.where((data['age'] >= 56) & (data['age'] < 73), 3, data['age'])\n",
        "data['age'] = np.where((data['age'] >= 73) & (data['age'] <= 89), 4, data['age'])\n",
        "\n",
        "# data.loc[(data['age'] >= 22 and data['age'] < 39), 'age'] = 1\n",
        "# data.loc[(data['age'] >= 39 and data['age'] < 56), 'age'] = 2\n",
        "# data.loc[(data['age'] >= 56 and data['age'] < 73), 'age'] = 3\n",
        "# data.loc[(data['age'] >= 73 and data['age'] <= 89), 'age'] = 4\n",
        "\n",
        "data['age'].value_counts()"
      ]
    },
    {
      "cell_type": "markdown",
      "metadata": {
        "id": "e75G5FXl9-Nr"
      },
      "source": [
        "### Cleaning Diagnosis Columns"
      ]
    },
    {
      "cell_type": "code",
      "execution_count": 218,
      "metadata": {
        "id": "crj7psYaaVtS"
      },
      "outputs": [],
      "source": [
        "# Selecting Relevant Columns\n",
        "\n",
        "iag_columns = ['age', 'sex', 'height', 'weight', 'bmi', 'asa', 'preop_htn', 'preop_dm', \n",
        "                'preop_ecg', 'preop_pft', 'preop_hb', 'preop_plt', 'preop_pt', 'preop_aptt',\n",
        "                'preop_na', 'preop_k', 'preop_gluc', 'preop_alb', 'preop_ast',\n",
        "                'preop_alt', 'preop_bun', 'preop_cr', 'preop_ph', 'preop_hco3',\n",
        "                'preop_be', 'preop_pao2', 'preop_paco2', 'preop_sao2', 'dx', 'optype']\n",
        "\n",
        "data = data[diag_columns]"
      ]
    },
    {
      "cell_type": "code",
      "execution_count": 219,
      "metadata": {
        "colab": {
          "base_uri": "https://localhost:8080/"
        },
        "id": "TEHCxnAc-_XQ",
        "outputId": "50013635-36cf-4783-b49e-433bbe36442d"
      },
      "outputs": [
        {
          "data": {
            "text/plain": [
              "1034"
            ]
          },
          "execution_count": 219,
          "metadata": {},
          "output_type": "execute_result"
        }
      ],
      "source": [
        "len(data['dx'].unique())"
      ]
    },
    {
      "cell_type": "code",
      "execution_count": 220,
      "metadata": {
        "colab": {
          "base_uri": "https://localhost:8080/"
        },
        "id": "bta4zbFTE9AF",
        "outputId": "de9ece99-692a-4eee-c797-e07a7b7380c1"
      },
      "outputs": [
        {
          "data": {
            "text/plain": [
              "Infiltrating ductal carcinoma of breast                                   142\n",
              "Breast cancer                                                             124\n",
              "Breast cancer unspecified side                                             40\n",
              "Ductal carcinoma in situ of breast                                         39\n",
              "Ductal carcinoma in situ of breast unspecified side                        22\n",
              "Infiltrating ductal carcinoma of breast unspecified side                    9\n",
              "Fibroadenoma of breast                                                      7\n",
              "Malignant neoplasm of breast                                                6\n",
              "Mucinous carcinoma of breast                                                6\n",
              "Lymphadenopathy                                                             3\n",
              "Intraductal carcinoma in situ of breast                                     3\n",
              "Infiltrating lobular carcinoma of breast                                    3\n",
              "Benign neoplasm of breast                                                   2\n",
              "Breast disease                                                              2\n",
              "Intraductal papilloma of breast                                             2\n",
              "Breast disease                                                              2\n",
              "Accessory breast                                                            2\n",
              "Invasive breast cancer                                                      2\n",
              "Lymphoproliferative disorder                                                1\n",
              "Ductal carcinoma in situ of breast                                          1\n",
              "Atypical lobular hyperplasia, breast                                        1\n",
              "Malignant melanoma of thumb                                                 1\n",
              "Ductal carcinoma in situ of breast, non-comedo type unspecified side        1\n",
              "infiltrating lobular carcinoma of breast                                    1\n",
              "Ductal carcinoma in situ of breast with microinvasion unspecified side      1\n",
              "Intraductal papilloma of female breast                                      1\n",
              "Epithelial-myoepithelial carcinoma                                          1\n",
              "breast disease                                                              1\n",
              "Gynecomastia                                                                1\n",
              "Phyllodes tumor of breast, benign unspecified side                          1\n",
              "Lobular carcinoma in situ of breast                                         1\n",
              "Ductal carcinoma in situ of breast with microinvasion                       1\n",
              "Benign neoplasm of female breast unspecified side                           1\n",
              "Paget's disease of breast                                                   1\n",
              "Ductal carcinoma in situ of breast, non-comedo type                         1\n",
              "Gynecomastia                                                                1\n",
              "Name: dx, dtype: int64"
            ]
          },
          "execution_count": 220,
          "metadata": {},
          "output_type": "execute_result"
        }
      ],
      "source": [
        "# Removing left and right from diagnosis as the next steps would be the same\n",
        "\n",
        "data['dx'] = data['dx'].str.replace('left', '')\n",
        "data['dx'] = data['dx'].str.replace('right', '')\n",
        "\n",
        "data[data['optype'] == \"Breast\"]['dx'].value_counts()"
      ]
    },
    {
      "cell_type": "code",
      "execution_count": 221,
      "metadata": {
        "colab": {
          "base_uri": "https://localhost:8080/"
        },
        "id": "Sa0EfPaj97yw",
        "outputId": "0b34c55b-e964-4898-8a76-d130e1b715df"
      },
      "outputs": [
        {
          "data": {
            "text/plain": [
              "842"
            ]
          },
          "execution_count": 221,
          "metadata": {},
          "output_type": "execute_result"
        }
      ],
      "source": [
        "# Removing spaces and \\n to avoid having multiple same name categories\n",
        "\n",
        "data['dx'] = data['dx'].str.strip()\n",
        "for i in data.columns:\n",
        "    if data[i].dtype == \"object\":\n",
        "        data[i] = data[i].str.strip()\n",
        "\n",
        "len(data['dx'].unique())"
      ]
    },
    {
      "cell_type": "code",
      "execution_count": 222,
      "metadata": {
        "colab": {
          "base_uri": "https://localhost:8080/"
        },
        "id": "BrKJri6r_cqF",
        "outputId": "2afe4d22-cc6b-4c98-b989-c50739e3cf3d"
      },
      "outputs": [
        {
          "name": "stdout",
          "output_type": "stream",
          "text": [
            "(842, 2)\n"
          ]
        },
        {
          "data": {
            "text/plain": [
              "97"
            ]
          },
          "execution_count": 222,
          "metadata": {},
          "output_type": "execute_result"
        }
      ],
      "source": [
        "# Removing Diagnosis having count 9 as the model would not accurately work for those\n",
        "\n",
        "df = data['dx'].value_counts().rename_axis('dx').reset_index(name='Count').sort_values(['Count'], ascending=False)\n",
        "print(df.shape)\n",
        "one_list = list(df[df['Count'] <= 9]['dx'])\n",
        "len(one_list)\n",
        "data = data[~data['dx'].isin(one_list)]\n",
        "data['dx'] = data['dx'].str.lower()\n",
        "\n",
        "len(data['dx'].unique())"
      ]
    },
    {
      "cell_type": "code",
      "execution_count": 223,
      "metadata": {
        "colab": {
          "base_uri": "https://localhost:8080/"
        },
        "id": "B7hsBi_5_Qab",
        "outputId": "0f2c2151-a518-4df8-ba53-685b4dd148a6"
      },
      "outputs": [
        {
          "name": "stdout",
          "output_type": "stream",
          "text": [
            "['Colorectal', 'Biliary/Pancreas', 'Stomach', 'Major resection', 'Minor resection', 'Others', 'Breast', 'Transplantation', 'Hepatic', 'Thyroid', 'Vascular']\n"
          ]
        }
      ],
      "source": [
        "op_list = list(data['optype'].value_counts().index)\n",
        "\n",
        "print(op_list)\n",
        "dx_op_list = []\n",
        "\n",
        "ind_op_list = ['Colorectal', 'Breast', 'Biliary/Pancreas', 'Stomach', 'Major resection', 'Minor resection', 'Transplantation', 'Thyroid']\n",
        "\n",
        "for op in ind_op_list:\n",
        "    dx_op_list.append(list(data[data['optype'] == op]['dx'].unique()))\n",
        "    # print(data[data['optype'] == op]['dx'].str.lower().value_counts())\n",
        "\n"
      ]
    },
    {
      "cell_type": "code",
      "execution_count": 224,
      "metadata": {
        "colab": {
          "base_uri": "https://localhost:8080/"
        },
        "id": "ASpvgLVXTX2T",
        "outputId": "cc4fe884-cc7a-4061-f38a-c7d4400e1d49"
      },
      "outputs": [
        {
          "data": {
            "text/plain": [
              "(382, 30)"
            ]
          },
          "execution_count": 224,
          "metadata": {},
          "output_type": "execute_result"
        }
      ],
      "source": [
        "data[data['optype'] == \"Others\"].shape"
      ]
    },
    {
      "cell_type": "code",
      "execution_count": 225,
      "metadata": {
        "colab": {
          "base_uri": "https://localhost:8080/"
        },
        "id": "2sHAcwQBMgjM",
        "outputId": "99d1f9c8-d25e-42dd-87d8-a98e39f53898"
      },
      "outputs": [
        {
          "name": "stderr",
          "output_type": "stream",
          "text": [
            "/var/folders/mp/xdrs4ffj5k7gc2rwyg0_mxrm0000gn/T/ipykernel_16112/1995343892.py:7: SettingWithCopyWarning: \n",
            "A value is trying to be set on a copy of a slice from a DataFrame\n",
            "\n",
            "See the caveats in the documentation: https://pandas.pydata.org/pandas-docs/stable/user_guide/indexing.html#returning-a-view-versus-a-copy\n",
            "  data['optype'][ind] = ind_op_list[i]\n"
          ]
        }
      ],
      "source": [
        "# Changing Others category which are falsely marked\n",
        "\n",
        "for ind, row in data.iterrows():\n",
        "    for i in range(len(dx_op_list)):\n",
        "        if row['dx'] in dx_op_list[i]:\n",
        "            # print(row['optype'])\n",
        "            data['optype'][ind] = ind_op_list[i]\n",
        "            # print(row['optype'])\n",
        "            break"
      ]
    },
    {
      "cell_type": "code",
      "execution_count": 226,
      "metadata": {
        "colab": {
          "base_uri": "https://localhost:8080/"
        },
        "id": "oIXC4hSqTxAt",
        "outputId": "a46c9acf-309c-4ba5-fb9b-acfefdd1a5fc"
      },
      "outputs": [
        {
          "data": {
            "text/plain": [
              "(85, 30)"
            ]
          },
          "execution_count": 226,
          "metadata": {},
          "output_type": "execute_result"
        }
      ],
      "source": [
        "data[data['optype'] == \"Others\"].shape"
      ]
    },
    {
      "cell_type": "markdown",
      "metadata": {
        "id": "o_pLpOz_-qm6"
      },
      "source": [
        "## Missing Values"
      ]
    },
    {
      "cell_type": "markdown",
      "metadata": {
        "id": "-7B1FsZZA8PZ"
      },
      "source": [
        "### Lab Data Analysis"
      ]
    },
    {
      "cell_type": "code",
      "execution_count": 227,
      "metadata": {
        "colab": {
          "base_uri": "https://localhost:8080/"
        },
        "id": "A2zxT9ffCRK1",
        "outputId": "1c95c479-c2dc-45a9-d3e9-a1460cd8f5f7"
      },
      "outputs": [
        {
          "data": {
            "text/plain": [
              "30647"
            ]
          },
          "execution_count": 227,
          "metadata": {},
          "output_type": "execute_result"
        }
      ],
      "source": [
        "data.isnull().sum().sum()"
      ]
    },
    {
      "cell_type": "code",
      "execution_count": 228,
      "metadata": {
        "colab": {
          "base_uri": "https://localhost:8080/"
        },
        "id": "1EypPuK--1wz",
        "outputId": "38e6b8ba-f77f-4e8c-961b-323e8de85ff3"
      },
      "outputs": [
        {
          "data": {
            "text/plain": [
              "(6236, 36)"
            ]
          },
          "execution_count": 228,
          "metadata": {},
          "output_type": "execute_result"
        }
      ],
      "source": [
        "path = \"/Users/parvthakkar/Desktop/NEU MSDS/Capstone/Project_Data/vitaldb-a-high-fidelity-multi-parameter-vital-signs-database-in-surgical-patients-1.0.0/\"\n",
        "\n",
        "lab_data = pd.read_csv(path + \"lab_data.csv\")\n",
        "\n",
        "lab_data = lab_data.drop(['dt'], axis=1)\n",
        "lab_data = lab_data.groupby(['caseid', 'name'], as_index=False)['result'].mean()\n",
        "\n",
        "lab_data = lab_data.pivot(index='caseid', columns='name', values='result')\n",
        "lab_data.columns = ['preop_' + i for i in lab_data.columns]\n",
        "\n",
        "preop_lab_values = ['preop_htn', 'preop_dm', 'preop_ecg', 'preop_pft', 'preop_hb', \n",
        "                    'preop_plt', 'preop_pt', 'preop_aptt', 'preop_na', 'preop_k', \n",
        "                    'preop_gluc', 'preop_alb', 'preop_ast', 'preop_alt', 'preop_bun', \n",
        "                    'preop_cr', 'preop_ph', 'preop_hco3', 'preop_be', 'preop_pao2', \n",
        "                    'preop_paco2', 'preop_sao2']\n",
        "\n",
        "preop_lab_values = [i for i in lab_data.columns if i in preop_lab_values]\n",
        "not_preop_lab_values = [i for i in lab_data.columns if i not in preop_lab_values]\n",
        "\n",
        "\n",
        "not_preop_lab_data = lab_data[not_preop_lab_values]\n",
        "\n",
        "# print(not_preop_lab_data.info())\n",
        "\n",
        "add_list = [i for i in not_preop_lab_data.columns if not_preop_lab_data[i].isnull().sum() < 1000]\n",
        "\n",
        "# print(len(add_list))\n",
        "not_preop_lab_data.head()\n",
        "\n",
        "for i in add_list:\n",
        "    preop_lab_values.append(i)\n",
        "\n",
        "preop_lab_data = lab_data[preop_lab_values]\n",
        "\n",
        "\n",
        "\n",
        "data = data.combine_first(preop_lab_data)\n",
        "\n",
        "data.shape"
      ]
    },
    {
      "cell_type": "markdown",
      "metadata": {
        "id": "0BRCTXhRUabj"
      },
      "source": [
        "## One Hot Encoding"
      ]
    },
    {
      "cell_type": "code",
      "execution_count": 229,
      "metadata": {
        "colab": {
          "base_uri": "https://localhost:8080/"
        },
        "id": "T44QxnIAUcIt",
        "outputId": "60c825b0-dfc0-4726-e6ad-df2b5821e09d"
      },
      "outputs": [
        {
          "name": "stdout",
          "output_type": "stream",
          "text": [
            "['preop_ecg', 'preop_pft', 'sex']\n",
            "['preop_ecg', 'preop_pft']\n"
          ]
        },
        {
          "data": {
            "text/plain": [
              "Index(['age', 'asa', 'bmi', 'dx', 'height', 'optype', 'preop_alb', 'preop_alt',\n",
              "       'preop_aptt', 'preop_ast', 'preop_be', 'preop_bun', 'preop_cl',\n",
              "       'preop_cr', 'preop_dm', 'preop_gfr', 'preop_gluc', 'preop_hb',\n",
              "       'preop_hco3', 'preop_hct', 'preop_htn', 'preop_k', 'preop_na',\n",
              "       'preop_paco2', 'preop_pao2', 'preop_ph', 'preop_plt', 'preop_pt',\n",
              "       'preop_sao2', 'preop_tbil', 'preop_tprot', 'preop_wbc', 'weight',\n",
              "       'preop_ecg_1st degree A-V block with Premature atrial complexes',\n",
              "       'preop_ecg_1st degree A-V block with Premature supraventricular complexes, Left bundle branch block',\n",
              "       'preop_ecg_1st degree A-V block, Left bundle branch block',\n",
              "       'preop_ecg_AV sequential or dual chamber electronic pacemaker',\n",
              "       'preop_ecg_Atrial fibrillation',\n",
              "       'preop_ecg_Atrial fibrillation with premature ventricular or aberrantly conducted complexes',\n",
              "       'preop_ecg_Atrial fibrillation with premature ventricular, Incomplete left bundle block',\n",
              "       'preop_ecg_Atrial flutter with variable A-V block',\n",
              "       'preop_ecg_Complete right bundle branch block, occasional premature supraventricular complexes',\n",
              "       'preop_ecg_Incomplete right bundle branch block',\n",
              "       'preop_ecg_Incomplete right bundle branch block, Left anterior fascicular block',\n",
              "       'preop_ecg_Left anterior fascicular block',\n",
              "       'preop_ecg_Left anterior hemiblock',\n",
              "       'preop_ecg_Left posterior fascicular block',\n",
              "       'preop_ecg_Normal Sinus Rhythm', 'preop_ecg_Premature atrial complexes',\n",
              "       'preop_ecg_Premature supraventricular and ventricular complexes, Right bundle branch block',\n",
              "       'preop_ecg_Premature supraventricular complexes',\n",
              "       'preop_ecg_Premature ventricular complexes',\n",
              "       'preop_ecg_Right bundle branch block',\n",
              "       'preop_ecg_Right bundle branch block, Left anterior fascicular block',\n",
              "       'preop_pft_Mild obstructive', 'preop_pft_Mild restrictive',\n",
              "       'preop_pft_Mixed or pure obstructive', 'preop_pft_Moderate obstructive',\n",
              "       'preop_pft_Moderate restrictive', 'preop_pft_Normal',\n",
              "       'preop_pft_Severe obstructive', 'preop_pft_Severe restrictive'],\n",
              "      dtype='object')"
            ]
          },
          "execution_count": 229,
          "metadata": {},
          "output_type": "execute_result"
        }
      ],
      "source": [
        "# Performing one hot encoding as the data has nominal categorical variables\n",
        "\n",
        "one = OneHotEncoder(handle_unknown='ignore', drop='first')\n",
        "\n",
        "object_list = []\n",
        "\n",
        "for i in data.columns:\n",
        "    if data[i].dtype == \"object\" and i != 'dx' and i != 'optype':\n",
        "        object_list.append(i)\n",
        "\n",
        "print(object_list)\n",
        "\n",
        "object_list = object_list[:len(object_list)-1]\n",
        "print(object_list)\n",
        "\n",
        "data_df = pd.get_dummies(data[object_list], drop_first=True)\n",
        "\n",
        "data = data.join(data_df)\n",
        "\n",
        "data = data.drop(['sex', 'preop_ecg', 'preop_pft'], axis=1)\n",
        "\n",
        "data.columns\n"
      ]
    },
    {
      "cell_type": "markdown",
      "metadata": {
        "id": "IKReRU99Yhhc"
      },
      "source": [
        "### Encoding Diagnosis"
      ]
    },
    {
      "cell_type": "code",
      "execution_count": 230,
      "metadata": {
        "colab": {
          "base_uri": "https://localhost:8080/"
        },
        "id": "_5gwSwqjU5aG",
        "outputId": "1fd53670-9c96-4f3d-ab20-fced1df38a71"
      },
      "outputs": [
        {
          "data": {
            "text/plain": [
              "0.0     364\n",
              "1.0     280\n",
              "2.0     265\n",
              "3.0     247\n",
              "4.0     207\n",
              "       ... \n",
              "92.0     10\n",
              "93.0     10\n",
              "94.0     10\n",
              "95.0     10\n",
              "96.0     10\n",
              "Name: dx, Length: 97, dtype: int64"
            ]
          },
          "execution_count": 230,
          "metadata": {},
          "output_type": "execute_result"
        }
      ],
      "source": [
        "i = list(range(0, 1034))\n",
        "\n",
        "dx_list = list(data['dx'].value_counts().index)\n",
        "\n",
        "dx_dic = dict(zip(dx_list, i))\n",
        "\n",
        "data['dx'] = data['dx'].map(dx_dic)\n",
        "\n",
        "data['dx'].value_counts()"
      ]
    },
    {
      "cell_type": "markdown",
      "metadata": {
        "id": "rCd41r7gYtSA"
      },
      "source": [
        "## Missing Data Handling"
      ]
    },
    {
      "cell_type": "code",
      "execution_count": 231,
      "metadata": {
        "colab": {
          "base_uri": "https://localhost:8080/"
        },
        "id": "xmVquICTw5-4",
        "outputId": "6e9b4cc5-7bc2-4057-c7cd-68dc2f67ebac"
      },
      "outputs": [
        {
          "data": {
            "text/plain": [
              "0"
            ]
          },
          "execution_count": 231,
          "metadata": {},
          "output_type": "execute_result"
        }
      ],
      "source": [
        "data = data[data['optype'].notna()]\n",
        "data['optype'].isnull().sum()"
      ]
    },
    {
      "cell_type": "code",
      "execution_count": 232,
      "metadata": {
        "id": "KoO1mRZNYwOB"
      },
      "outputs": [],
      "source": [
        "# Replacing values with median tested for mean and random_sampling mean performs better\n",
        "\n",
        "for i in data.columns:\n",
        "    if data[i].isnull().sum() > 1000:\n",
        "        data = data.drop(i, axis=1)\n",
        "\n",
        "missing_features = []\n",
        "\n",
        "for i in data.columns:\n",
        "    if data[i].isnull().sum():\n",
        "        missing_features.append(i)\n",
        "\n",
        "# print(missing_features)\n",
        "\n",
        "for i in missing_features:\n",
        "    data[i] = data[i].fillna(data[i].median())"
      ]
    },
    {
      "cell_type": "markdown",
      "metadata": {
        "id": "uoBYGTef9zbb"
      },
      "source": [
        "## Splitting the Data"
      ]
    },
    {
      "cell_type": "code",
      "execution_count": 233,
      "metadata": {
        "colab": {
          "base_uri": "https://localhost:8080/"
        },
        "id": "RFlGlBHrRH6n",
        "outputId": "27b58a13-5eea-41e2-845c-6124dba73ad5"
      },
      "outputs": [
        {
          "name": "stdout",
          "output_type": "stream",
          "text": [
            "34\n",
            "(2212, 56)\n",
            "20\n",
            "(616, 56)\n",
            "4\n",
            "(192, 56)\n",
            "16\n",
            "(805, 56)\n",
            "6\n",
            "(135, 56)\n",
            "5\n",
            "(85, 56)\n",
            "5\n",
            "(400, 56)\n",
            "4\n",
            "(162, 56)\n",
            "0\n",
            "(0, 56)\n",
            "3\n",
            "(242, 56)\n",
            "1\n",
            "(9, 56)\n"
          ]
        }
      ],
      "source": [
        "# Splitting the data based on operation type\n",
        "\n",
        "# print(op_list)\n",
        "\n",
        "for op in op_list:\n",
        "    print(len(data[data['optype'] == op]['dx'].value_counts()))\n",
        "    print((data[data['optype'] == op]).shape)"
      ]
    },
    {
      "cell_type": "code",
      "execution_count": 234,
      "metadata": {
        "colab": {
          "base_uri": "https://localhost:8080/"
        },
        "id": "URL5EuzoYSzk",
        "outputId": "632c2c6c-bf2d-4406-cbde-b3c1a7168fe0"
      },
      "outputs": [
        {
          "name": "stdout",
          "output_type": "stream",
          "text": [
            "8\n",
            "(2212, 56)\n",
            "(400, 56)\n",
            "(616, 56)\n",
            "(192, 56)\n",
            "(805, 56)\n",
            "(135, 56)\n",
            "(162, 56)\n",
            "(242, 56)\n"
          ]
        }
      ],
      "source": [
        "split_data = []\n",
        "\n",
        "for i in range(len(ind_op_list)):\n",
        "    split_data.append(data[data['optype'] == ind_op_list[i]])\n",
        "\n",
        "print(len(split_data))\n",
        "for i in split_data:\n",
        "    print(i.shape)\n",
        "\n",
        "# Removing the operation type column as it will not be known for patient diagnosis\n",
        "for i in range(len(split_data)):\n",
        "    split_data[i] = split_data[i].drop('optype', axis=1)"
      ]
    },
    {
      "cell_type": "markdown",
      "metadata": {
        "id": "zUh6-iEf8Qpd"
      },
      "source": [
        "## Machine Learning Models"
      ]
    },
    {
      "cell_type": "code",
      "execution_count": 235,
      "metadata": {},
      "outputs": [],
      "source": [
        "# def ann_model(target=10):\n",
        "\n",
        "#     nn_model = Sequential()\n",
        "#     nn_model.add(Dense(units=1258, input_dim=45,\n",
        "#                  kernel_initializer='uniform', activation='relu'))\n",
        "#     nn_model.add(Flatten())\n",
        "#     nn_model.add(\n",
        "#         Dense(units=1000, kernel_initializer='uniform', activation='relu'))\n",
        "#     nn_model.add(\n",
        "#         Dense(units=800, kernel_initializer='uniform', activation='relu'))\n",
        "#     nn_model.add(\n",
        "#         Dense(units=500, kernel_initializer='uniform', activation='relu'))\n",
        "#     nn_model.add(\n",
        "#         Dense(units=100, kernel_initializer='uniform', activation='relu'))\n",
        "#     nn_model.add(\n",
        "#         Dense(units=50, kernel_initializer='uniform', activation='relu'))\n",
        "#     nn_model.add(\n",
        "#         Dense(units=target, kernel_initializer='uniform', activation='softmax'))\n",
        "#     nn_model.compile(loss='sparse_categorical_crossentropy',\n",
        "#                      optimizer='adam', metrics=['acc'])\n",
        "\n",
        "#     return nn_model"
      ]
    },
    {
      "cell_type": "code",
      "execution_count": 236,
      "metadata": {},
      "outputs": [
        {
          "data": {
            "text/plain": [
              "('early gastric cancer', 'breast cancer')"
            ]
          },
          "execution_count": 236,
          "metadata": {},
          "output_type": "execute_result"
        }
      ],
      "source": [
        "new_dx_dic = dict([(value, key) for key, value in dx_dic.items()])\n",
        "new_dx_dic[0], new_dx_dic[9]"
      ]
    },
    {
      "cell_type": "code",
      "execution_count": 255,
      "metadata": {
        "colab": {
          "base_uri": "https://localhost:8080/"
        },
        "id": "tJQ7zmDM8P9s",
        "outputId": "774d523b-416b-433e-aa31-1307e3b35368"
      },
      "outputs": [],
      "source": [
        "def rf_model(data, name):\n",
        "\n",
        "    # Train Test Splits\n",
        "    y = data['dx']\n",
        "    x = data.drop(['dx'], axis=1)\n",
        "\n",
        "    x_train, x_test, y_train, y_test = train_test_split(\n",
        "        x, y, test_size=0.2, random_state=42)\n",
        "\n",
        "    # Constant Feature Check\n",
        "\n",
        "    varThresh = VarianceThreshold(threshold=1)\n",
        "    varThresh.fit(x_train)\n",
        "\n",
        "    len(x_train.columns[varThresh.get_support()])\n",
        "\n",
        "    # determine the mutual information\n",
        "\n",
        "    mutual_info = mutual_info_classif(x_train, y_train)\n",
        "    mutual_info = pd.Series(mutual_info)\n",
        "    mutual_info.index = x_train.columns\n",
        "    mv = mutual_info.sort_values(ascending=False)\n",
        "    most_imp_feat1.append(mv.index[0])\n",
        "    most_imp_feat2.append(mv.index[1])\n",
        "    most_imp_feat3.append(mv.index[2])\n",
        "\n",
        "    #let's plot the ordered mutual_info values per feature\n",
        "    # Plotting the features having highest importance to lowest\n",
        "    # mutual_info.sort_values(ascending=False)[:20].plot.bar(figsize=(20, 8))\n",
        "    # plt.title(\"Feature Importances based on Mutual Information\")\n",
        "    # plt.xlabel(\"Features\")\n",
        "    # plt.ylabel(\"Mutual Information\")\n",
        "    # plt.savefig(\"graph\" + name + \".png\", bobx=\"tight\", pad_inches=0)\n",
        "    # plt.show()\n",
        "\n",
        "    # Now we Will select the  top 20 important features\n",
        "    sel_cols = SelectKBest(chi2, k=45)\n",
        "    sel_cols.fit(x_train, y_train)\n",
        "    x_test = x_test[x_train.columns[sel_cols.get_support()]]\n",
        "    x_train = x_train[x_train.columns[sel_cols.get_support()]]\n",
        "\n",
        "    # Random Forest Model\n",
        "    rf = RandomForestClassifier(max_features = 5, n_estimators = 500)\n",
        "    rf.fit(x_train, y_train)\n",
        "    rfpred = rf.predict(x_test)\n",
        "    rf_acc_list.append(accuracy_score(y_test, rfpred)*100)\n",
        "\n",
        "    # # ANN Model\n",
        "    # x_train, x_val, y_train, y_val = train_test_split(\n",
        "    #     x_train, y_train, test_size=0.2, random_state=42)\n",
        "    # model = ann_model(len(data['dx'].value_counts()))\n",
        "    # print(len(data['dx'].value_counts()))\n",
        "    # print(model.summary())\n",
        "    # model.fit(x_train, y_train, epochs=150,\n",
        "    #                     batch_size=100, validation_data=(x_val, y_val), verbose=0)\n",
        "    # _, acc = model.evaluate(x_test, y_test)\n",
        "    # ann_acc_list.append(acc)\n",
        "    # print(\"The accuracy for Neural Network for \" + name + \" is \", acc)\n",
        "    # print(\"The accuracy for model Random Forest for \" + name + \" is \", accuracy_score(y_test, rfpred))\n",
        "\n",
        "    probs = rf.predict_proba(x_test)\n",
        "    predictions = list(rf.classes_[np.argsort(probs)[:, :-3 - 1:-1]])\n",
        "    # print(type(predictions))\n",
        "\n",
        "    diag_pred = []\n",
        "    \n",
        "    for preds in predictions:\n",
        "        # print(type(preds))\n",
        "        # print(preds)\n",
        "        temp = []\n",
        "        for i in range(3):\n",
        "            # print(i)\n",
        "            # print(preds[int(i)])\n",
        "            temp.append(new_dx_dic[preds[i]])\n",
        "        diag_pred.append(temp)\n",
        "        \n",
        "\n",
        "    probabilities = [sorted(np.around(probas*100, 2), reverse=True)[:3] for probas in probs]\n",
        "\n",
        "    d1, d2, d3 = [], [], []\n",
        "\n",
        "    for d in diag_pred:\n",
        "        d1.append(d[0])\n",
        "        d2.append(d[1])\n",
        "        d3.append(d[2])\n",
        "\n",
        "    p1, p2, p3 = [], [], []\n",
        "\n",
        "    for p in probabilities:\n",
        "        p1.append(p[0])\n",
        "        p2.append(p[1])\n",
        "        p3.append(p[2])\n",
        "\n",
        "    df = pd.DataFrame(list(zip(d1, p1, d2, p2, d3, p3)), columns=[\n",
        "                      'Suggested Diagnosis 1', 'Confidence', 'Suggested Diagnosis 2', 'Confidence', 'Suggested Diagnosis 3', 'Confidence', ])\n",
        "\n",
        "    pred_df.append(df)\n",
        "\n",
        "\n",
        "rf_acc_list = []\n",
        "ann_acc_list = []\n",
        "most_imp_feat1 = []\n",
        "most_imp_feat2 = []\n",
        "most_imp_feat3 = []\n",
        "pred_df = []\n",
        "\n",
        "for i in range(len(split_data)):\n",
        "    rf_model(split_data[i], ind_op_list[i])\n",
        "\n",
        "unique_dx = []\n",
        "for i in split_data:\n",
        "    unique_dx.append(len(i['dx'].value_counts()))\n",
        "\n",
        "most_imp_df = pd.DataFrame(list(zip(ind_op_list, most_imp_feat1, most_imp_feat2, most_imp_feat3)), columns=[\n",
        "                           'Operation Type', 'Most important feature', '2nd Most important feature', '3rd Most important feature'])\n",
        "\n",
        "rf_result_df = pd.DataFrame(list(zip(ind_op_list, rf_acc_list, unique_dx)), columns=[\n",
        "                            'Operation Type', 'Diagnosis Accuracy', 'No. of Unique Diagnosis Present'])\n"
      ]
    },
    {
      "cell_type": "code",
      "execution_count": 238,
      "metadata": {
        "colab": {
          "base_uri": "https://localhost:8080/",
          "height": 363
        },
        "id": "U65FA-rix59Q",
        "outputId": "1e2cd0b0-2a01-4700-f9a6-345e117245a5"
      },
      "outputs": [
        {
          "data": {
            "text/html": [
              "<div>\n",
              "<style scoped>\n",
              "    .dataframe tbody tr th:only-of-type {\n",
              "        vertical-align: middle;\n",
              "    }\n",
              "\n",
              "    .dataframe tbody tr th {\n",
              "        vertical-align: top;\n",
              "    }\n",
              "\n",
              "    .dataframe thead th {\n",
              "        text-align: right;\n",
              "    }\n",
              "</style>\n",
              "<table border=\"1\" class=\"dataframe\">\n",
              "  <thead>\n",
              "    <tr style=\"text-align: right;\">\n",
              "      <th></th>\n",
              "      <th>Operation Type</th>\n",
              "      <th>Diagnosis Accuracy</th>\n",
              "      <th>No. of Unique Diagnosis Present</th>\n",
              "    </tr>\n",
              "  </thead>\n",
              "  <tbody>\n",
              "    <tr>\n",
              "      <th>0</th>\n",
              "      <td>Colorectal</td>\n",
              "      <td>25.733634</td>\n",
              "      <td>34</td>\n",
              "    </tr>\n",
              "    <tr>\n",
              "      <th>1</th>\n",
              "      <td>Breast</td>\n",
              "      <td>31.250000</td>\n",
              "      <td>5</td>\n",
              "    </tr>\n",
              "    <tr>\n",
              "      <th>2</th>\n",
              "      <td>Biliary/Pancreas</td>\n",
              "      <td>21.774194</td>\n",
              "      <td>20</td>\n",
              "    </tr>\n",
              "    <tr>\n",
              "      <th>3</th>\n",
              "      <td>Stomach</td>\n",
              "      <td>74.358974</td>\n",
              "      <td>4</td>\n",
              "    </tr>\n",
              "    <tr>\n",
              "      <th>4</th>\n",
              "      <td>Major resection</td>\n",
              "      <td>37.888199</td>\n",
              "      <td>16</td>\n",
              "    </tr>\n",
              "    <tr>\n",
              "      <th>5</th>\n",
              "      <td>Minor resection</td>\n",
              "      <td>29.629630</td>\n",
              "      <td>6</td>\n",
              "    </tr>\n",
              "    <tr>\n",
              "      <th>6</th>\n",
              "      <td>Transplantation</td>\n",
              "      <td>57.575758</td>\n",
              "      <td>4</td>\n",
              "    </tr>\n",
              "    <tr>\n",
              "      <th>7</th>\n",
              "      <td>Thyroid</td>\n",
              "      <td>85.714286</td>\n",
              "      <td>3</td>\n",
              "    </tr>\n",
              "  </tbody>\n",
              "</table>\n",
              "</div>"
            ],
            "text/plain": [
              "     Operation Type  Diagnosis Accuracy  No. of Unique Diagnosis Present\n",
              "0        Colorectal           25.733634                               34\n",
              "1            Breast           31.250000                                5\n",
              "2  Biliary/Pancreas           21.774194                               20\n",
              "3           Stomach           74.358974                                4\n",
              "4   Major resection           37.888199                               16\n",
              "5   Minor resection           29.629630                                6\n",
              "6   Transplantation           57.575758                                4\n",
              "7           Thyroid           85.714286                                3"
            ]
          },
          "execution_count": 238,
          "metadata": {},
          "output_type": "execute_result"
        }
      ],
      "source": [
        "rf_result_df"
      ]
    },
    {
      "cell_type": "code",
      "execution_count": 239,
      "metadata": {},
      "outputs": [
        {
          "data": {
            "text/html": [
              "<div>\n",
              "<style scoped>\n",
              "    .dataframe tbody tr th:only-of-type {\n",
              "        vertical-align: middle;\n",
              "    }\n",
              "\n",
              "    .dataframe tbody tr th {\n",
              "        vertical-align: top;\n",
              "    }\n",
              "\n",
              "    .dataframe thead th {\n",
              "        text-align: right;\n",
              "    }\n",
              "</style>\n",
              "<table border=\"1\" class=\"dataframe\">\n",
              "  <thead>\n",
              "    <tr style=\"text-align: right;\">\n",
              "      <th></th>\n",
              "      <th>Operation Type</th>\n",
              "      <th>Most important feature</th>\n",
              "      <th>2nd Most important feature</th>\n",
              "      <th>3rd Most important feature</th>\n",
              "    </tr>\n",
              "  </thead>\n",
              "  <tbody>\n",
              "    <tr>\n",
              "      <th>0</th>\n",
              "      <td>Colorectal</td>\n",
              "      <td>preop_pft_Normal</td>\n",
              "      <td>preop_plt</td>\n",
              "      <td>asa</td>\n",
              "    </tr>\n",
              "    <tr>\n",
              "      <th>1</th>\n",
              "      <td>Breast</td>\n",
              "      <td>preop_ecg_Premature supraventricular and ventr...</td>\n",
              "      <td>preop_pft_Mild obstructive</td>\n",
              "      <td>preop_ecg_Atrial flutter with variable A-V block</td>\n",
              "    </tr>\n",
              "    <tr>\n",
              "      <th>2</th>\n",
              "      <td>Biliary/Pancreas</td>\n",
              "      <td>preop_alb</td>\n",
              "      <td>asa</td>\n",
              "      <td>preop_cr</td>\n",
              "    </tr>\n",
              "    <tr>\n",
              "      <th>3</th>\n",
              "      <td>Stomach</td>\n",
              "      <td>preop_cr</td>\n",
              "      <td>preop_bun</td>\n",
              "      <td>preop_hb</td>\n",
              "    </tr>\n",
              "    <tr>\n",
              "      <th>4</th>\n",
              "      <td>Major resection</td>\n",
              "      <td>height</td>\n",
              "      <td>age</td>\n",
              "      <td>preop_hb</td>\n",
              "    </tr>\n",
              "    <tr>\n",
              "      <th>5</th>\n",
              "      <td>Minor resection</td>\n",
              "      <td>age</td>\n",
              "      <td>height</td>\n",
              "      <td>preop_hct</td>\n",
              "    </tr>\n",
              "    <tr>\n",
              "      <th>6</th>\n",
              "      <td>Transplantation</td>\n",
              "      <td>preop_ecg_Normal Sinus Rhythm</td>\n",
              "      <td>age</td>\n",
              "      <td>preop_pft_Normal</td>\n",
              "    </tr>\n",
              "    <tr>\n",
              "      <th>7</th>\n",
              "      <td>Thyroid</td>\n",
              "      <td>preop_ecg_Atrial flutter with variable A-V block</td>\n",
              "      <td>age</td>\n",
              "      <td>preop_cr</td>\n",
              "    </tr>\n",
              "  </tbody>\n",
              "</table>\n",
              "</div>"
            ],
            "text/plain": [
              "     Operation Type                             Most important feature  \\\n",
              "0        Colorectal                                   preop_pft_Normal   \n",
              "1            Breast  preop_ecg_Premature supraventricular and ventr...   \n",
              "2  Biliary/Pancreas                                          preop_alb   \n",
              "3           Stomach                                           preop_cr   \n",
              "4   Major resection                                             height   \n",
              "5   Minor resection                                                age   \n",
              "6   Transplantation                      preop_ecg_Normal Sinus Rhythm   \n",
              "7           Thyroid   preop_ecg_Atrial flutter with variable A-V block   \n",
              "\n",
              "   2nd Most important feature  \\\n",
              "0                   preop_plt   \n",
              "1  preop_pft_Mild obstructive   \n",
              "2                         asa   \n",
              "3                   preop_bun   \n",
              "4                         age   \n",
              "5                      height   \n",
              "6                         age   \n",
              "7                         age   \n",
              "\n",
              "                         3rd Most important feature  \n",
              "0                                               asa  \n",
              "1  preop_ecg_Atrial flutter with variable A-V block  \n",
              "2                                          preop_cr  \n",
              "3                                          preop_hb  \n",
              "4                                          preop_hb  \n",
              "5                                         preop_hct  \n",
              "6                                  preop_pft_Normal  \n",
              "7                                          preop_cr  "
            ]
          },
          "execution_count": 239,
          "metadata": {},
          "output_type": "execute_result"
        }
      ],
      "source": [
        "most_imp_df"
      ]
    },
    {
      "cell_type": "code",
      "execution_count": 254,
      "metadata": {
        "id": "y5ShTfuC9rWH"
      },
      "outputs": [
        {
          "data": {
            "text/html": [
              "<div>\n",
              "<style scoped>\n",
              "    .dataframe tbody tr th:only-of-type {\n",
              "        vertical-align: middle;\n",
              "    }\n",
              "\n",
              "    .dataframe tbody tr th {\n",
              "        vertical-align: top;\n",
              "    }\n",
              "\n",
              "    .dataframe thead th {\n",
              "        text-align: right;\n",
              "    }\n",
              "</style>\n",
              "<table border=\"1\" class=\"dataframe\">\n",
              "  <thead>\n",
              "    <tr style=\"text-align: right;\">\n",
              "      <th></th>\n",
              "      <th>Suggested Diagnosis 1</th>\n",
              "      <th>Confidence</th>\n",
              "      <th>Suggested Diagnosis 2</th>\n",
              "      <th>Confidence</th>\n",
              "      <th>Suggested Diagnosis 3</th>\n",
              "      <th>Confidence</th>\n",
              "    </tr>\n",
              "  </thead>\n",
              "  <tbody>\n",
              "    <tr>\n",
              "      <th>438</th>\n",
              "      <td>hepatocellular carcinoma</td>\n",
              "      <td>22.4</td>\n",
              "      <td>early gastric cancer</td>\n",
              "      <td>16.8</td>\n",
              "      <td>varicose vein of lower limb</td>\n",
              "      <td>9.6</td>\n",
              "    </tr>\n",
              "    <tr>\n",
              "      <th>439</th>\n",
              "      <td>advanced gastric cancer</td>\n",
              "      <td>15.8</td>\n",
              "      <td>colon cancer, sigmoid</td>\n",
              "      <td>14.0</td>\n",
              "      <td>rectal cancer</td>\n",
              "      <td>13.4</td>\n",
              "    </tr>\n",
              "    <tr>\n",
              "      <th>440</th>\n",
              "      <td>early gastric cancer</td>\n",
              "      <td>15.4</td>\n",
              "      <td>varicose vein of lower limb</td>\n",
              "      <td>12.0</td>\n",
              "      <td>rectal cancer</td>\n",
              "      <td>11.4</td>\n",
              "    </tr>\n",
              "    <tr>\n",
              "      <th>441</th>\n",
              "      <td>advanced gastric cancer</td>\n",
              "      <td>22.2</td>\n",
              "      <td>early gastric cancer</td>\n",
              "      <td>14.4</td>\n",
              "      <td>colon cancer, sigmoid</td>\n",
              "      <td>14.2</td>\n",
              "    </tr>\n",
              "    <tr>\n",
              "      <th>442</th>\n",
              "      <td>early gastric cancer</td>\n",
              "      <td>15.4</td>\n",
              "      <td>advanced gastric cancer</td>\n",
              "      <td>13.2</td>\n",
              "      <td>rectal cancer</td>\n",
              "      <td>12.8</td>\n",
              "    </tr>\n",
              "  </tbody>\n",
              "</table>\n",
              "</div>"
            ],
            "text/plain": [
              "        Suggested Diagnosis 1  Confidence        Suggested Diagnosis 2  \\\n",
              "438  hepatocellular carcinoma        22.4         early gastric cancer   \n",
              "439   advanced gastric cancer        15.8        colon cancer, sigmoid   \n",
              "440      early gastric cancer        15.4  varicose vein of lower limb   \n",
              "441   advanced gastric cancer        22.2         early gastric cancer   \n",
              "442      early gastric cancer        15.4      advanced gastric cancer   \n",
              "\n",
              "     Confidence        Suggested Diagnosis 3  Confidence  \n",
              "438        16.8  varicose vein of lower limb         9.6  \n",
              "439        14.0                rectal cancer        13.4  \n",
              "440        12.0                rectal cancer        11.4  \n",
              "441        14.4        colon cancer, sigmoid        14.2  \n",
              "442        13.2                rectal cancer        12.8  "
            ]
          },
          "execution_count": 254,
          "metadata": {},
          "output_type": "execute_result"
        }
      ],
      "source": [
        "pred_df[0].tail()"
      ]
    },
    {
      "cell_type": "code",
      "execution_count": 256,
      "metadata": {},
      "outputs": [
        {
          "data": {
            "text/plain": [
              "46.06271335006563"
            ]
          },
          "execution_count": 256,
          "metadata": {},
          "output_type": "execute_result"
        }
      ],
      "source": [
        "rf_result_df['Diagnosis Accuracy'].mean()"
      ]
    }
  ],
  "metadata": {
    "colab": {
      "provenance": []
    },
    "kernelspec": {
      "display_name": "Python 3.9 (tensorflow)",
      "language": "python",
      "name": "tensorflow"
    },
    "language_info": {
      "codemirror_mode": {
        "name": "ipython",
        "version": 3
      },
      "file_extension": ".py",
      "mimetype": "text/x-python",
      "name": "python",
      "nbconvert_exporter": "python",
      "pygments_lexer": "ipython3",
      "version": "3.9.15"
    }
  },
  "nbformat": 4,
  "nbformat_minor": 0
}
