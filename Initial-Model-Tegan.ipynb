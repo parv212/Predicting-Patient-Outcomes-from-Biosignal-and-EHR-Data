{
 "cells": [
  {
   "cell_type": "markdown",
   "id": "c75fdfbb",
   "metadata": {},
   "source": [
    "### Notes\n",
    "\n",
    "* Predict optype instead of diagnosis\n",
    "* predict bispectral index (BIS): depth of anesthesia (BIS values range from 0 to 100. A value of 0 represents the absence of brain activity, and 100 represents the awake state. BIS values between 40 to 60 represent adequate general anesthesia for a surgery, values less than 40 represent a deep hypnotic state. BIS value is usually maintained between 40 to 60 to prevent awareness under anesthesia.) -- track_name = [BIS/BIS]\n",
    "* Predict MINS (Myocardial injury after noncardiac surgery) which is defined by elevated postoperative cardiac troponin concentrations that exceed the 99th percentile of the upper reference limit of the assay"
   ]
  },
  {
   "cell_type": "code",
   "execution_count": 9,
   "id": "dbef11a0",
   "metadata": {},
   "outputs": [],
   "source": [
    "import numpy as np\n",
    "import pandas as pd\n",
    "import seaborn as sns\n",
    "import matplotlib.pyplot as plt\n",
    "from sklearn.metrics import confusion_matrix\n",
    "from sklearn.naive_bayes import MultinomialNB\n",
    "from sklearn.ensemble import RandomForestClassifier\n",
    "from sklearn.model_selection import train_test_split"
   ]
  },
  {
   "cell_type": "code",
   "execution_count": 2,
   "id": "88a95b86",
   "metadata": {},
   "outputs": [
    {
     "name": "stdout",
     "output_type": "stream",
     "text": [
      "(6388, 74)\n"
     ]
    },
    {
     "data": {
      "text/html": [
       "<div>\n",
       "<style scoped>\n",
       "    .dataframe tbody tr th:only-of-type {\n",
       "        vertical-align: middle;\n",
       "    }\n",
       "\n",
       "    .dataframe tbody tr th {\n",
       "        vertical-align: top;\n",
       "    }\n",
       "\n",
       "    .dataframe thead th {\n",
       "        text-align: right;\n",
       "    }\n",
       "</style>\n",
       "<table border=\"1\" class=\"dataframe\">\n",
       "  <thead>\n",
       "    <tr style=\"text-align: right;\">\n",
       "      <th></th>\n",
       "      <th>caseid</th>\n",
       "      <th>subjectid</th>\n",
       "      <th>casestart</th>\n",
       "      <th>caseend</th>\n",
       "      <th>anestart</th>\n",
       "      <th>aneend</th>\n",
       "      <th>opstart</th>\n",
       "      <th>opend</th>\n",
       "      <th>adm</th>\n",
       "      <th>dis</th>\n",
       "      <th>...</th>\n",
       "      <th>intraop_colloid</th>\n",
       "      <th>intraop_ppf</th>\n",
       "      <th>intraop_mdz</th>\n",
       "      <th>intraop_ftn</th>\n",
       "      <th>intraop_rocu</th>\n",
       "      <th>intraop_vecu</th>\n",
       "      <th>intraop_eph</th>\n",
       "      <th>intraop_phe</th>\n",
       "      <th>intraop_epi</th>\n",
       "      <th>intraop_ca</th>\n",
       "    </tr>\n",
       "  </thead>\n",
       "  <tbody>\n",
       "    <tr>\n",
       "      <th>0</th>\n",
       "      <td>1</td>\n",
       "      <td>5955</td>\n",
       "      <td>0</td>\n",
       "      <td>11542</td>\n",
       "      <td>-552</td>\n",
       "      <td>10848.0</td>\n",
       "      <td>1668</td>\n",
       "      <td>10368</td>\n",
       "      <td>-236220</td>\n",
       "      <td>627780</td>\n",
       "      <td>...</td>\n",
       "      <td>0</td>\n",
       "      <td>120</td>\n",
       "      <td>0.0</td>\n",
       "      <td>100</td>\n",
       "      <td>70</td>\n",
       "      <td>0</td>\n",
       "      <td>10</td>\n",
       "      <td>0</td>\n",
       "      <td>0</td>\n",
       "      <td>0</td>\n",
       "    </tr>\n",
       "    <tr>\n",
       "      <th>1</th>\n",
       "      <td>2</td>\n",
       "      <td>2487</td>\n",
       "      <td>0</td>\n",
       "      <td>15741</td>\n",
       "      <td>-1039</td>\n",
       "      <td>14921.0</td>\n",
       "      <td>1721</td>\n",
       "      <td>14621</td>\n",
       "      <td>-221160</td>\n",
       "      <td>1506840</td>\n",
       "      <td>...</td>\n",
       "      <td>0</td>\n",
       "      <td>150</td>\n",
       "      <td>0.0</td>\n",
       "      <td>0</td>\n",
       "      <td>100</td>\n",
       "      <td>0</td>\n",
       "      <td>20</td>\n",
       "      <td>0</td>\n",
       "      <td>0</td>\n",
       "      <td>0</td>\n",
       "    </tr>\n",
       "    <tr>\n",
       "      <th>2</th>\n",
       "      <td>3</td>\n",
       "      <td>2861</td>\n",
       "      <td>0</td>\n",
       "      <td>4394</td>\n",
       "      <td>-590</td>\n",
       "      <td>4210.0</td>\n",
       "      <td>1090</td>\n",
       "      <td>3010</td>\n",
       "      <td>-218640</td>\n",
       "      <td>40560</td>\n",
       "      <td>...</td>\n",
       "      <td>0</td>\n",
       "      <td>0</td>\n",
       "      <td>0.0</td>\n",
       "      <td>0</td>\n",
       "      <td>50</td>\n",
       "      <td>0</td>\n",
       "      <td>0</td>\n",
       "      <td>0</td>\n",
       "      <td>0</td>\n",
       "      <td>0</td>\n",
       "    </tr>\n",
       "    <tr>\n",
       "      <th>3</th>\n",
       "      <td>4</td>\n",
       "      <td>1903</td>\n",
       "      <td>0</td>\n",
       "      <td>20990</td>\n",
       "      <td>-778</td>\n",
       "      <td>20222.0</td>\n",
       "      <td>2522</td>\n",
       "      <td>17822</td>\n",
       "      <td>-201120</td>\n",
       "      <td>576480</td>\n",
       "      <td>...</td>\n",
       "      <td>0</td>\n",
       "      <td>80</td>\n",
       "      <td>0.0</td>\n",
       "      <td>100</td>\n",
       "      <td>100</td>\n",
       "      <td>0</td>\n",
       "      <td>50</td>\n",
       "      <td>0</td>\n",
       "      <td>0</td>\n",
       "      <td>0</td>\n",
       "    </tr>\n",
       "    <tr>\n",
       "      <th>4</th>\n",
       "      <td>5</td>\n",
       "      <td>4416</td>\n",
       "      <td>0</td>\n",
       "      <td>21531</td>\n",
       "      <td>-1009</td>\n",
       "      <td>22391.0</td>\n",
       "      <td>2591</td>\n",
       "      <td>20291</td>\n",
       "      <td>-67560</td>\n",
       "      <td>3734040</td>\n",
       "      <td>...</td>\n",
       "      <td>0</td>\n",
       "      <td>0</td>\n",
       "      <td>0.0</td>\n",
       "      <td>0</td>\n",
       "      <td>160</td>\n",
       "      <td>0</td>\n",
       "      <td>10</td>\n",
       "      <td>900</td>\n",
       "      <td>0</td>\n",
       "      <td>2100</td>\n",
       "    </tr>\n",
       "  </tbody>\n",
       "</table>\n",
       "<p>5 rows × 74 columns</p>\n",
       "</div>"
      ],
      "text/plain": [
       "   caseid  subjectid  casestart  caseend  anestart   aneend  opstart  opend  \\\n",
       "0       1       5955          0    11542      -552  10848.0     1668  10368   \n",
       "1       2       2487          0    15741     -1039  14921.0     1721  14621   \n",
       "2       3       2861          0     4394      -590   4210.0     1090   3010   \n",
       "3       4       1903          0    20990      -778  20222.0     2522  17822   \n",
       "4       5       4416          0    21531     -1009  22391.0     2591  20291   \n",
       "\n",
       "      adm      dis  ...  intraop_colloid  intraop_ppf intraop_mdz intraop_ftn  \\\n",
       "0 -236220   627780  ...                0          120         0.0         100   \n",
       "1 -221160  1506840  ...                0          150         0.0           0   \n",
       "2 -218640    40560  ...                0            0         0.0           0   \n",
       "3 -201120   576480  ...                0           80         0.0         100   \n",
       "4  -67560  3734040  ...                0            0         0.0           0   \n",
       "\n",
       "   intraop_rocu  intraop_vecu  intraop_eph  intraop_phe  intraop_epi  \\\n",
       "0            70             0           10            0            0   \n",
       "1           100             0           20            0            0   \n",
       "2            50             0            0            0            0   \n",
       "3           100             0           50            0            0   \n",
       "4           160             0           10          900            0   \n",
       "\n",
       "  intraop_ca  \n",
       "0          0  \n",
       "1          0  \n",
       "2          0  \n",
       "3          0  \n",
       "4       2100  \n",
       "\n",
       "[5 rows x 74 columns]"
      ]
     },
     "execution_count": 2,
     "metadata": {},
     "output_type": "execute_result"
    }
   ],
   "source": [
    "# import data\n",
    "dataFile = r'C:\\Users\\ta1031742\\OneDrive - Bose Corporation\\Documents\\Admin\\Northeastern\\DS5500-Capstone\\Data\\vitaldb\\vitaldb-a-high-fidelity-multi-parameter-vital-signs-database-in-surgical-patients-1.0.0\\clinical_data.csv'\n",
    "\n",
    "data = pd.read_csv(dataFile)\n",
    "\n",
    "print(data.shape)\n",
    "data.head()"
   ]
  },
  {
   "cell_type": "code",
   "execution_count": 17,
   "id": "953aba11",
   "metadata": {},
   "outputs": [],
   "source": [
    "# create anedur variable\n",
    "data['anedur'] = (data['aneend'] - data['anestart']).astype(int)"
   ]
  },
  {
   "cell_type": "code",
   "execution_count": 4,
   "id": "fa60c7ff",
   "metadata": {},
   "outputs": [],
   "source": [
    "# column names\n",
    "data.columns.to_list()"
   ]
  },
  {
   "cell_type": "code",
   "execution_count": 5,
   "id": "2e37269e",
   "metadata": {},
   "outputs": [
    {
     "data": {
      "text/plain": [
       "0       11400\n",
       "1       15960\n",
       "2        4800\n",
       "3       21000\n",
       "4       23400\n",
       "        ...  \n",
       "6383    15900\n",
       "6384    21540\n",
       "6385    19800\n",
       "6386    13380\n",
       "6387    10200\n",
       "Name: anedur, Length: 6388, dtype: int32"
      ]
     },
     "execution_count": 5,
     "metadata": {},
     "output_type": "execute_result"
    }
   ],
   "source": [
    "data['anedur']"
   ]
  },
  {
   "cell_type": "code",
   "execution_count": 5,
   "id": "5bfc7860",
   "metadata": {},
   "outputs": [
    {
     "name": "stdout",
     "output_type": "stream",
     "text": [
      "0\n",
      "\n",
      "General            6043\n",
      "Spinal              273\n",
      "Sedationalgesia      72\n",
      "Name: ane_type, dtype: int64\n"
     ]
    },
    {
     "data": {
      "image/png": "[encoded data removed]",
      "text/plain": [
       "<Figure size 432x288 with 1 Axes>"
      ]
     },
     "metadata": {
      "needs_background": "light"
     },
     "output_type": "display_data"
    }
   ],
   "source": [
    "# anesthesia type\n",
    "\n",
    "# number of missing values\n",
    "print(data['ane_type'].isnull().sum()); print()\n",
    "\n",
    "# plot \n",
    "sns.countplot(data=data,\n",
    "              x='ane_type')\n",
    "\n",
    "# counts\n",
    "print(data['ane_type'].value_counts())"
   ]
  },
  {
   "cell_type": "code",
   "execution_count": 21,
   "id": "f5df1394",
   "metadata": {},
   "outputs": [
    {
     "name": "stdout",
     "output_type": "stream",
     "text": [
      "(array([4475], dtype=int64),)\n",
      "-3691470416.0\n",
      "(6388, 75)\n",
      "(6387, 75)\n"
     ]
    }
   ],
   "source": [
    "# check number of negative values\n",
    "print(np.where(data['anedur'] < 0))\n",
    "idx = np.where(data['anedur'] < 0)[0][0]\n",
    "\n",
    "# check the index\n",
    "print(data['aneend'].iloc[idx])\n",
    "\n",
    "# drop index and check shape\n",
    "print(data.shape)\n",
    "data = data.drop(index=idx)\n",
    "print(data.shape)"
   ]
  },
  {
   "cell_type": "code",
   "execution_count": 22,
   "id": "cbc9ef1e",
   "metadata": {},
   "outputs": [
    {
     "data": {
      "text/plain": [
       "<AxesSubplot:>"
      ]
     },
     "execution_count": 22,
     "metadata": {},
     "output_type": "execute_result"
    },
    {
     "data": {
      "image/png": "[encoded data removed]",
      "text/plain": [
       "<Figure size 432x288 with 1 Axes>"
      ]
     },
     "metadata": {
      "needs_background": "light"
     },
     "output_type": "display_data"
    }
   ],
   "source": [
    "pd.to_numeric(data['anedur']).hist()"
   ]
  },
  {
   "cell_type": "code",
   "execution_count": 23,
   "id": "dedb9a8b",
   "metadata": {},
   "outputs": [
    {
     "name": "stdout",
     "output_type": "stream",
     "text": [
      "0\n",
      "\n",
      "11978.44919367465\n",
      "10500.0\n",
      "6897.910059268698\n",
      "111600\n",
      "960\n"
     ]
    },
    {
     "data": {
      "text/plain": [
       "<AxesSubplot:xlabel='anedur', ylabel='Count'>"
      ]
     },
     "execution_count": 23,
     "metadata": {},
     "output_type": "execute_result"
    },
    {
     "data": {
      "image/png": "[encoded data removed]",
      "text/plain": [
       "<Figure size 432x288 with 1 Axes>"
      ]
     },
     "metadata": {
      "needs_background": "light"
     },
     "output_type": "display_data"
    }
   ],
   "source": [
    "# anesthesia duration\n",
    "\n",
    "# number of missing values\n",
    "print(data['anedur'].isnull().sum()); print()\n",
    "\n",
    "# stats\n",
    "print(data['anedur'].mean())\n",
    "print(data['anedur'].median())\n",
    "print(data['anedur'].std())\n",
    "print(data['anedur'].max())\n",
    "print(data['anedur'].min())\n",
    "\n",
    "# plot \n",
    "sns.histplot(data=data,\n",
    "             x='anedur',\n",
    "             bins=20)"
   ]
  },
  {
   "cell_type": "code",
   "execution_count": 41,
   "id": "0f41570b",
   "metadata": {},
   "outputs": [
    {
     "data": {
      "text/plain": [
       "Colorectal          1350\n",
       "Biliary/Pancreas     812\n",
       "Others               799\n",
       "Stomach              676\n",
       "Major resection      584\n",
       "Minor resection      553\n",
       "Breast               434\n",
       "Transplantation      402\n",
       "Vascular             262\n",
       "Hepatic              258\n",
       "Thyroid              257\n",
       "Name: optype, dtype: int64"
      ]
     },
     "execution_count": 41,
     "metadata": {},
     "output_type": "execute_result"
    },
    {
     "data": {
      "image/png": "[encoded data removed]",
      "text/plain": [
       "<Figure size 432x288 with 1 Axes>"
      ]
     },
     "metadata": {
      "needs_background": "light"
     },
     "output_type": "display_data"
    }
   ],
   "source": [
    "sns.countplot(data=data,\n",
    "              x='optype')\n",
    "plt.xticks(rotation = 90);\n",
    "\n",
    "data['optype'].value_counts()"
   ]
  },
  {
   "cell_type": "code",
   "execution_count": 40,
   "id": "db4e14ac",
   "metadata": {},
   "outputs": [
    {
     "data": {
      "text/plain": [
       "Open           3364\n",
       "Videoscopic    2754\n",
       "Robotic         269\n",
       "Name: approach, dtype: int64"
      ]
     },
     "execution_count": 40,
     "metadata": {},
     "output_type": "execute_result"
    },
    {
     "data": {
      "image/png": "[encoded data removed]",
      "text/plain": [
       "<Figure size 432x288 with 1 Axes>"
      ]
     },
     "metadata": {
      "needs_background": "light"
     },
     "output_type": "display_data"
    }
   ],
   "source": [
    "sns.countplot(data=data,\n",
    "              x='approach')\n",
    "\n",
    "data['approach'].value_counts()"
   ]
  },
  {
   "cell_type": "markdown",
   "id": "5ed7b34f",
   "metadata": {},
   "source": [
    "### Initial Modeling\n",
    "\n",
    "age, sex, height, weight, bmi, asa, optype, approach, position\n",
    "\n",
    "asa physical status classification: purpose of the system is to assess and communicate a patient’s pre-anesthesia medical co-morbidities"
   ]
  },
  {
   "cell_type": "code",
   "execution_count": 3,
   "id": "f82ae186",
   "metadata": {},
   "outputs": [
    {
     "name": "stdout",
     "output_type": "stream",
     "text": [
      "(6388, 6)\n"
     ]
    },
    {
     "data": {
      "text/html": [
       "<div>\n",
       "<style scoped>\n",
       "    .dataframe tbody tr th:only-of-type {\n",
       "        vertical-align: middle;\n",
       "    }\n",
       "\n",
       "    .dataframe tbody tr th {\n",
       "        vertical-align: top;\n",
       "    }\n",
       "\n",
       "    .dataframe thead th {\n",
       "        text-align: right;\n",
       "    }\n",
       "</style>\n",
       "<table border=\"1\" class=\"dataframe\">\n",
       "  <thead>\n",
       "    <tr style=\"text-align: right;\">\n",
       "      <th></th>\n",
       "      <th>age</th>\n",
       "      <th>height</th>\n",
       "      <th>weight</th>\n",
       "      <th>bmi</th>\n",
       "      <th>asa</th>\n",
       "      <th>ane_type</th>\n",
       "    </tr>\n",
       "  </thead>\n",
       "  <tbody>\n",
       "    <tr>\n",
       "      <th>0</th>\n",
       "      <td>77</td>\n",
       "      <td>160.2</td>\n",
       "      <td>67.5</td>\n",
       "      <td>26.3</td>\n",
       "      <td>2.0</td>\n",
       "      <td>General</td>\n",
       "    </tr>\n",
       "    <tr>\n",
       "      <th>1</th>\n",
       "      <td>54</td>\n",
       "      <td>167.3</td>\n",
       "      <td>54.8</td>\n",
       "      <td>19.6</td>\n",
       "      <td>2.0</td>\n",
       "      <td>General</td>\n",
       "    </tr>\n",
       "    <tr>\n",
       "      <th>2</th>\n",
       "      <td>62</td>\n",
       "      <td>169.1</td>\n",
       "      <td>69.7</td>\n",
       "      <td>24.4</td>\n",
       "      <td>1.0</td>\n",
       "      <td>General</td>\n",
       "    </tr>\n",
       "    <tr>\n",
       "      <th>3</th>\n",
       "      <td>74</td>\n",
       "      <td>160.6</td>\n",
       "      <td>53.0</td>\n",
       "      <td>20.5</td>\n",
       "      <td>2.0</td>\n",
       "      <td>General</td>\n",
       "    </tr>\n",
       "    <tr>\n",
       "      <th>4</th>\n",
       "      <td>66</td>\n",
       "      <td>171.0</td>\n",
       "      <td>59.7</td>\n",
       "      <td>20.4</td>\n",
       "      <td>3.0</td>\n",
       "      <td>General</td>\n",
       "    </tr>\n",
       "  </tbody>\n",
       "</table>\n",
       "</div>"
      ],
      "text/plain": [
       "  age  height  weight   bmi  asa ane_type\n",
       "0  77   160.2    67.5  26.3  2.0  General\n",
       "1  54   167.3    54.8  19.6  2.0  General\n",
       "2  62   169.1    69.7  24.4  1.0  General\n",
       "3  74   160.6    53.0  20.5  2.0  General\n",
       "4  66   171.0    59.7  20.4  3.0  General"
      ]
     },
     "execution_count": 3,
     "metadata": {},
     "output_type": "execute_result"
    }
   ],
   "source": [
    "from collections import Counter\n",
    "from imblearn.pipeline import Pipeline\n",
    "from imblearn.over_sampling import RandomOverSampler\n",
    "from sklearn.ensemble import RandomForestClassifier\n",
    "from sklearn.model_selection import cross_val_score, RepeatedStratifiedKFold\n",
    "\n",
    "# get data\n",
    "# df = data[['age', 'sex', 'height', 'weight', 'bmi', 'asa', 'optype', 'approach', 'position', 'ane_type']]\n",
    "df = data[['age', 'height', 'weight', 'bmi', 'asa', 'ane_type']]\n",
    "print(df.shape)\n",
    "df.head()"
   ]
  },
  {
   "cell_type": "code",
   "execution_count": 4,
   "id": "870808c5",
   "metadata": {},
   "outputs": [
    {
     "name": "stdout",
     "output_type": "stream",
     "text": [
      "missing values: \n",
      "age           0\n",
      "height        0\n",
      "weight        0\n",
      "bmi           0\n",
      "asa         133\n",
      "ane_type      0\n",
      "dtype: int64\n",
      "\n",
      "(6255, 6)\n"
     ]
    }
   ],
   "source": [
    "# -------------\n",
    "# clean data\n",
    "# -------------\n",
    "\n",
    "# check for missing values\n",
    "print('missing values: ')\n",
    "print(df.isnull().sum()); print()\n",
    "\n",
    "# ---------------------------------------------------------------------------------------------------\n",
    "# for now i'm just going to drop samples with missing values, but in the future could try this:\n",
    "# https://medium.com/airbnb-engineering/overcoming-missing-values-in-a-random-forest-classifier-7b1fc1fc03ba#:~:text=One%20particular%20family%20of%20models,i.e.%20NULL%20or%20NaN%20values.\n",
    "# ---------------------------------------------------------------------------------------------------\n",
    "\n",
    "# drop rows with any missing values\n",
    "df = df.dropna(how='any').reset_index(drop=True)\n",
    "\n",
    "print(df.shape)\n",
    "\n",
    "# ---------------------------------------------------------------------\n",
    "# in the future, i should convert categorical variables to one-hot\n",
    "# ---------------------------------------------------------------------\n",
    "\n",
    "print(df.shape); print()\n",
    "\n",
    "# drop rows with '>89' in age column\n",
    "print('>89: ')\n",
    "print(df[df['age']=='>89'].index.values)\n",
    "idx = df[df['age']=='>89'].index.values\n",
    "df = df.drop(index=idx).reset_index(drop=True)\n",
    "print(df.shape); print()\n",
    "\n",
    "# drop rows with decimals in age column\n",
    "print('decimals: ')\n",
    "print(df[~df['age'].str.isdecimal()].index.values)\n",
    "idx = df[~df['age'].str.isdecimal()].index.values\n",
    "df = df.drop(index=idx).reset_index(drop=True)\n",
    "print(df.shape)"
   ]
  },
  {
   "cell_type": "code",
   "execution_count": 75,
   "id": "066b3e64",
   "metadata": {},
   "outputs": [
    {
     "name": "stdout",
     "output_type": "stream",
     "text": [
      "(6238, 5)\n",
      "(6238,)\n",
      "Counter({'General': 5910, 'Spinal': 258, 'Sedationalgesia': 70})\n",
      "\n",
      "F1 Score: 0.935\n"
     ]
    }
   ],
   "source": [
    "# ----------------------\n",
    "# modeling with CV\n",
    "# ----------------------\n",
    "\n",
    "y = df['ane_type']\n",
    "X = df.drop(columns=['ane_type'])\n",
    "\n",
    "print(X.shape)\n",
    "print(y.shape)\n",
    "print(Counter(y)); print()\n",
    "\n",
    "# define pipeline\n",
    "steps = [('over', RandomOverSampler()), ('model', RandomForestClassifier())]\n",
    "pipeline = Pipeline(steps=steps)\n",
    "\n",
    "# train and evaluate\n",
    "cv = RepeatedStratifiedKFold(n_splits=10, n_repeats=3, random_state=1) # 10-fold cross-validation with three repeats\n",
    "scores = cross_val_score(pipeline, X, y, scoring='f1_micro', cv=cv, n_jobs=-1) # the oversampling is performed on the training dataset within each fold separately\n",
    "score = np.mean(scores)\n",
    "\n",
    "print('F1 Score: %.3f' % score)"
   ]
  },
  {
   "cell_type": "code",
   "execution_count": 11,
   "id": "e4412c45",
   "metadata": {},
   "outputs": [
    {
     "name": "stdout",
     "output_type": "stream",
     "text": [
      "before sampling: \n",
      "Counter({'General': 5910, 'Spinal': 258, 'Sedationalgesia': 70})\n",
      "\n",
      "after sampling: \n",
      "Counter({'General': 5910, 'Spinal': 5910, 'Sedationalgesia': 5910})\n",
      "0.9923090070073491\n"
     ]
    },
    {
     "data": {
      "text/plain": [
       "array([[1906,   12,   33],\n",
       "       [   0, 1963,    0],\n",
       "       [   0,    0, 1937]], dtype=int64)"
      ]
     },
     "execution_count": 11,
     "metadata": {},
     "output_type": "execute_result"
    }
   ],
   "source": [
    "# ---------------------------------\n",
    "# modeling with train-test-split\n",
    "# ---------------------------------\n",
    "\n",
    "y = df['ane_type']\n",
    "X = df.drop(columns=['ane_type'])\n",
    "\n",
    "print('before sampling: ')\n",
    "print(Counter(y)); print()\n",
    "\n",
    "# define sampler\n",
    "oversample = RandomOverSampler()\n",
    "\n",
    "# fit and apply the transform\n",
    "X_over, y_over = oversample.fit_resample(X, y)\n",
    "\n",
    "# check\n",
    "print('after sampling: ')\n",
    "print(Counter(y_over))\n",
    "\n",
    "# train test split\n",
    "X_train, X_test, y_train, y_test = train_test_split(X_over, y_over, test_size=0.33, random_state=42)\n",
    "\n",
    "# train\n",
    "model = RandomForestClassifier()\n",
    "model.fit(X_train, y_train)\n",
    "\n",
    "# predict\n",
    "y_pred = model.predict(X_test)\n",
    "\n",
    "# score\n",
    "print(model.score(X_test, y_test))\n",
    "confusion_matrix(y_test, y_pred)"
   ]
  }
 ],
 "metadata": {
  "kernelspec": {
   "display_name": "Python 3 (ipykernel)",
   "language": "python",
   "name": "python3"
  },
  "language_info": {
   "codemirror_mode": {
    "name": "ipython",
    "version": 3
   },
   "file_extension": ".py",
   "mimetype": "text/x-python",
   "name": "python",
   "nbconvert_exporter": "python",
   "pygments_lexer": "ipython3",
   "version": "3.9.12"
  }
 },
 "nbformat": 4,
 "nbformat_minor": 5
}
